{
 "cells": [
  {
   "cell_type": "code",
   "execution_count": 2,
   "metadata": {},
   "outputs": [],
   "source": [
    "import shelve, pyperclip, sys"
   ]
  },
  {
   "cell_type": "code",
   "execution_count": null,
   "metadata": {},
   "outputs": [],
   "source": []
  },
  {
   "cell_type": "code",
   "execution_count": 3,
   "metadata": {},
   "outputs": [],
   "source": [
    "mcbshelf = shelve.open('mcb')"
   ]
  },
  {
   "cell_type": "code",
   "execution_count": null,
   "metadata": {},
   "outputs": [],
   "source": []
  },
  {
   "cell_type": "code",
   "execution_count": 4,
   "metadata": {},
   "outputs": [],
   "source": [
    "# Save clipboard content\n",
    "if len(sys.argv) == 3 and sys.argv[1].lower() == 'save':\n",
    "    mcbshelf[sys.argv[2]] = pyperclip.paste()\n",
    "elif len(sys.argv) == 2:\n",
    "    # list keywords and load content\n",
    "    if sys.argv[1].lower() == 'list':\n",
    "        pyperclip.copy(str(list(mcbshelf.keys())))\n",
    "    elif sys.argv[1] in mcbshelf:\n",
    "        pyperclip.copy(mcbshelf[sys.argv[1]])"
   ]
  },
  {
   "cell_type": "code",
   "execution_count": 1,
   "metadata": {},
   "outputs": [],
   "source": [
    "import pprint"
   ]
  },
  {
   "cell_type": "code",
   "execution_count": 2,
   "metadata": {},
   "outputs": [],
   "source": [
    "cats = [{'name': 'Zophie','desc': 'chubby'},{'name':'pooka', 'desc': 'fluffy'}]"
   ]
  },
  {
   "cell_type": "code",
   "execution_count": 3,
   "metadata": {},
   "outputs": [
    {
     "data": {
      "text/plain": [
       "\"[{'desc': 'chubby', 'name': 'Zophie'}, {'desc': 'fluffy', 'name': 'pooka'}]\""
      ]
     },
     "execution_count": 3,
     "metadata": {},
     "output_type": "execute_result"
    }
   ],
   "source": [
    "pprint.pformat(cats)"
   ]
  },
  {
   "cell_type": "code",
   "execution_count": 4,
   "metadata": {},
   "outputs": [
    {
     "data": {
      "text/plain": [
       "83"
      ]
     },
     "execution_count": 4,
     "metadata": {},
     "output_type": "execute_result"
    }
   ],
   "source": [
    "fileObj = open('myCats.py','w')\n",
    "fileObj.write('cats = ' + pprint.pformat(cats) + '\\n')"
   ]
  },
  {
   "cell_type": "code",
   "execution_count": 5,
   "metadata": {},
   "outputs": [],
   "source": [
    "fileObj.close()"
   ]
  },
  {
   "cell_type": "code",
   "execution_count": 7,
   "metadata": {},
   "outputs": [
    {
     "data": {
      "text/plain": [
       "[{'desc': 'chubby', 'name': 'Zophie'}, {'desc': 'fluffy', 'name': 'pooka'}]"
      ]
     },
     "execution_count": 7,
     "metadata": {},
     "output_type": "execute_result"
    }
   ],
   "source": [
    "import myCats\n",
    "myCats.cats"
   ]
  },
  {
   "cell_type": "code",
   "execution_count": 8,
   "metadata": {},
   "outputs": [
    {
     "data": {
      "text/plain": [
       "{'desc': 'chubby', 'name': 'Zophie'}"
      ]
     },
     "execution_count": 8,
     "metadata": {},
     "output_type": "execute_result"
    }
   ],
   "source": [
    "myCats.cats[0]"
   ]
  },
  {
   "cell_type": "code",
   "execution_count": 9,
   "metadata": {},
   "outputs": [
    {
     "data": {
      "text/plain": [
       "'Zophie'"
      ]
     },
     "execution_count": 9,
     "metadata": {},
     "output_type": "execute_result"
    }
   ],
   "source": [
    "myCats.cats[0]['name']"
   ]
  },
  {
   "cell_type": "code",
   "execution_count": 10,
   "metadata": {},
   "outputs": [],
   "source": [
    "import shutil, os"
   ]
  },
  {
   "cell_type": "code",
   "execution_count": 21,
   "metadata": {},
   "outputs": [
    {
     "data": {
      "text/plain": [
       "'F:\\\\LUCY\\\\hello2.txt'"
      ]
     },
     "execution_count": 21,
     "metadata": {},
     "output_type": "execute_result"
    }
   ],
   "source": [
    "os.chdir('F:\\\\')\n",
    "shutil.copy('F:\\\\allegro.jrl', 'F:\\\\signoise.run')\n",
    "shutil.copy('F:\\\\Python_Learn\\\\hello.txt', 'F:\\\\LUCY\\\\hello2.txt')"
   ]
  },
  {
   "cell_type": "code",
   "execution_count": 38,
   "metadata": {},
   "outputs": [
    {
     "data": {
      "text/plain": [
       "'F:\\\\bacon_backup'"
      ]
     },
     "execution_count": 38,
     "metadata": {},
     "output_type": "execute_result"
    }
   ],
   "source": [
    "import shutil, os\n",
    "os.chdir('F:\\\\')\n",
    "shutil.copytree('F:\\\\bacon', 'F:\\\\bacon_backup')"
   ]
  },
  {
   "cell_type": "code",
   "execution_count": 39,
   "metadata": {},
   "outputs": [
    {
     "data": {
      "text/plain": [
       "'F:\\\\python\\\\money.txt'"
      ]
     },
     "execution_count": 39,
     "metadata": {},
     "output_type": "execute_result"
    }
   ],
   "source": [
    "import shutil\n",
    "shutil.move('F:\\\\money.txt', 'F:\\\\python')"
   ]
  },
  {
   "cell_type": "code",
   "execution_count": 40,
   "metadata": {},
   "outputs": [
    {
     "data": {
      "text/plain": [
       "'F:\\\\python\\\\new_money.txt'"
      ]
     },
     "execution_count": 40,
     "metadata": {},
     "output_type": "execute_result"
    }
   ],
   "source": [
    "shutil.move('F:\\\\money.txt', 'F:\\\\python\\\\new_money.txt')"
   ]
  },
  {
   "cell_type": "code",
   "execution_count": 41,
   "metadata": {},
   "outputs": [
    {
     "data": {
      "text/plain": [
       "'F:\\\\eggs'"
      ]
     },
     "execution_count": 41,
     "metadata": {},
     "output_type": "execute_result"
    }
   ],
   "source": [
    "shutil.move('F:\\\\bacon.txt', 'F:\\\\eggs')"
   ]
  },
  {
   "cell_type": "code",
   "execution_count": 47,
   "metadata": {},
   "outputs": [
    {
     "ename": "AttributeError",
     "evalue": "'str' object has no attribute 'endswitch'",
     "output_type": "error",
     "traceback": [
      "\u001b[1;31m---------------------------------------------------------------------------\u001b[0m",
      "\u001b[1;31mAttributeError\u001b[0m                            Traceback (most recent call last)",
      "\u001b[1;32mf:\\Python_Learn\\2023-12-6-02.ipynb 单元格 20\u001b[0m line \u001b[0;36m3\n\u001b[0;32m      <a href='vscode-notebook-cell:/f%3A/Python_Learn/2023-12-6-02.ipynb#X25sZmlsZQ%3D%3D?line=0'>1</a>\u001b[0m \u001b[39mimport\u001b[39;00m \u001b[39mos\u001b[39;00m\n\u001b[0;32m      <a href='vscode-notebook-cell:/f%3A/Python_Learn/2023-12-6-02.ipynb#X25sZmlsZQ%3D%3D?line=1'>2</a>\u001b[0m \u001b[39mfor\u001b[39;00m filename \u001b[39min\u001b[39;00m os\u001b[39m.\u001b[39mlistdir():\n\u001b[1;32m----> <a href='vscode-notebook-cell:/f%3A/Python_Learn/2023-12-6-02.ipynb#X25sZmlsZQ%3D%3D?line=2'>3</a>\u001b[0m     \u001b[39mif\u001b[39;00m filename\u001b[39m.\u001b[39mendswitch(\u001b[39m'\u001b[39m\u001b[39mlucy.rxt\u001b[39m\u001b[39m'\u001b[39m):\n\u001b[0;32m      <a href='vscode-notebook-cell:/f%3A/Python_Learn/2023-12-6-02.ipynb#X25sZmlsZQ%3D%3D?line=3'>4</a>\u001b[0m         \u001b[39m#os.unlink(filename)\u001b[39;00m\n\u001b[0;32m      <a href='vscode-notebook-cell:/f%3A/Python_Learn/2023-12-6-02.ipynb#X25sZmlsZQ%3D%3D?line=4'>5</a>\u001b[0m         \u001b[39mprint\u001b[39m(filename)\n",
      "\u001b[1;31mAttributeError\u001b[0m: 'str' object has no attribute 'endswitch'"
     ]
    }
   ],
   "source": [
    "import os\n",
    "for filename in os.listdir():\n",
    "    if filename.endswitch('lucy.rxt'):\n",
    "        #os.unlink(filename)\n",
    "        print(filename)"
   ]
  },
  {
   "cell_type": "code",
   "execution_count": 49,
   "metadata": {},
   "outputs": [
    {
     "data": {
      "text/plain": [
       "25"
      ]
     },
     "execution_count": 49,
     "metadata": {},
     "output_type": "execute_result"
    }
   ],
   "source": [
    "import send2trash\n",
    "baconFile = open('bacon.txt', 'a')# creates the file\n",
    "baconFile.write('Bacon is not a vegetable.')"
   ]
  },
  {
   "cell_type": "code",
   "execution_count": 50,
   "metadata": {},
   "outputs": [],
   "source": [
    "baconFile.close()\n",
    "send2trash.send2trash('bacon.txt')"
   ]
  },
  {
   "cell_type": "code",
   "execution_count": 52,
   "metadata": {},
   "outputs": [],
   "source": [
    "import os"
   ]
  },
  {
   "cell_type": "code",
   "execution_count": 53,
   "metadata": {},
   "outputs": [
    {
     "name": "stdout",
     "output_type": "stream",
     "text": [
      "The current folder isF:\\python_learn\n",
      "The current folder isF:\\python_learn\\.git\n",
      "The current folder isF:\\python_learn\\.git\\hooks\n",
      "The current folder isF:\\python_learn\\.git\\info\n",
      "The current folder isF:\\python_learn\\.git\\logs\n",
      "The current folder isF:\\python_learn\\.git\\logs\\refs\n",
      "The current folder isF:\\python_learn\\.git\\logs\\refs\\heads\n",
      "The current folder isF:\\python_learn\\.git\\logs\\refs\\remotes\n",
      "The current folder isF:\\python_learn\\.git\\logs\\refs\\remotes\\origin\n",
      "The current folder isF:\\python_learn\\.git\\objects\n",
      "The current folder isF:\\python_learn\\.git\\objects\\03\n",
      "The current folder isF:\\python_learn\\.git\\objects\\04\n",
      "The current folder isF:\\python_learn\\.git\\objects\\16\n",
      "The current folder isF:\\python_learn\\.git\\objects\\17\n",
      "The current folder isF:\\python_learn\\.git\\objects\\18\n",
      "The current folder isF:\\python_learn\\.git\\objects\\1c\n",
      "The current folder isF:\\python_learn\\.git\\objects\\21\n",
      "The current folder isF:\\python_learn\\.git\\objects\\35\n",
      "The current folder isF:\\python_learn\\.git\\objects\\41\n",
      "The current folder isF:\\python_learn\\.git\\objects\\59\n",
      "The current folder isF:\\python_learn\\.git\\objects\\60\n",
      "The current folder isF:\\python_learn\\.git\\objects\\70\n",
      "The current folder isF:\\python_learn\\.git\\objects\\7d\n",
      "The current folder isF:\\python_learn\\.git\\objects\\83\n",
      "The current folder isF:\\python_learn\\.git\\objects\\90\n",
      "The current folder isF:\\python_learn\\.git\\objects\\91\n",
      "The current folder isF:\\python_learn\\.git\\objects\\93\n",
      "The current folder isF:\\python_learn\\.git\\objects\\94\n",
      "The current folder isF:\\python_learn\\.git\\objects\\9d\n",
      "The current folder isF:\\python_learn\\.git\\objects\\a1\n",
      "The current folder isF:\\python_learn\\.git\\objects\\a9\n",
      "The current folder isF:\\python_learn\\.git\\objects\\af\n",
      "The current folder isF:\\python_learn\\.git\\objects\\b0\n",
      "The current folder isF:\\python_learn\\.git\\objects\\b5\n",
      "The current folder isF:\\python_learn\\.git\\objects\\bc\n",
      "The current folder isF:\\python_learn\\.git\\objects\\d5\n",
      "The current folder isF:\\python_learn\\.git\\objects\\da\n",
      "The current folder isF:\\python_learn\\.git\\objects\\df\n",
      "The current folder isF:\\python_learn\\.git\\objects\\e6\n",
      "The current folder isF:\\python_learn\\.git\\objects\\e7\n",
      "The current folder isF:\\python_learn\\.git\\objects\\f5\n",
      "The current folder isF:\\python_learn\\.git\\objects\\info\n",
      "The current folder isF:\\python_learn\\.git\\objects\\pack\n",
      "The current folder isF:\\python_learn\\.git\\refs\n",
      "The current folder isF:\\python_learn\\.git\\refs\\heads\n",
      "The current folder isF:\\python_learn\\.git\\refs\\remotes\n",
      "The current folder isF:\\python_learn\\.git\\refs\\remotes\\origin\n",
      "The current folder isF:\\python_learn\\.git\\refs\\tags\n",
      "The current folder isF:\\python_learn\\.ipynb_checkpoints\n",
      "The current folder isF:\\python_learn\\test\n",
      "The current folder isF:\\python_learn\\__pycache__\n",
      "The current folder isF:\\python_learn\\前阶段学习\n",
      "The current folder isF:\\python_learn\\前阶段学习\\第一轮学习\n",
      "The current folder isF:\\python_learn\\前阶段学习\\第二轮学习\n",
      "The current folder isF:\\python_learn\\第八章代码测试文本\n",
      "FILE INSIDEF:\\python_learn\\第八章代码测试文本:$\n",
      "FILE INSIDEF:\\python_learn\\第八章代码测试文本:R\n",
      "FILE INSIDEF:\\python_learn\\第八章代码测试文本:E\n",
      "FILE INSIDEF:\\python_learn\\第八章代码测试文本:C\n",
      "FILE INSIDEF:\\python_learn\\第八章代码测试文本:Y\n",
      "FILE INSIDEF:\\python_learn\\第八章代码测试文本:C\n",
      "FILE INSIDEF:\\python_learn\\第八章代码测试文本:L\n",
      "FILE INSIDEF:\\python_learn\\第八章代码测试文本:E\n",
      "FILE INSIDEF:\\python_learn\\第八章代码测试文本:.\n",
      "FILE INSIDEF:\\python_learn\\第八章代码测试文本:B\n",
      "FILE INSIDEF:\\python_learn\\第八章代码测试文本:I\n",
      "FILE INSIDEF:\\python_learn\\第八章代码测试文本:N\n",
      "\n"
     ]
    }
   ],
   "source": [
    "for folderName, subfolders, filenames in os.walk('F:\\\\python_learn'):\n",
    "    print('The current folder is' + folderName)\n",
    "for subfolder in subfolders:\n",
    "    print('SUBFOLDER OF' + folderName +':' + subfolder)\n",
    "for filename in filename:\n",
    "    print('FILE INSIDE' + folderName + ':' + filename)\n",
    "\n",
    "print('')"
   ]
  },
  {
   "cell_type": "code",
   "execution_count": 8,
   "metadata": {},
   "outputs": [
    {
     "ename": "FileNotFoundError",
     "evalue": "[Errno 2] No such file or directory: 'example.zip'",
     "output_type": "error",
     "traceback": [
      "\u001b[1;31m---------------------------------------------------------------------------\u001b[0m",
      "\u001b[1;31mFileNotFoundError\u001b[0m                         Traceback (most recent call last)",
      "\u001b[1;32mf:\\Python_Learn\\2023-12-7.ipynb 单元格 25\u001b[0m line \u001b[0;36m3\n\u001b[0;32m      <a href='vscode-notebook-cell:/f%3A/Python_Learn/2023-12-7.ipynb#X33sZmlsZQ%3D%3D?line=0'>1</a>\u001b[0m \u001b[39mimport\u001b[39;00m \u001b[39mzipfile\u001b[39;00m\u001b[39m,\u001b[39m \u001b[39mos\u001b[39;00m\n\u001b[0;32m      <a href='vscode-notebook-cell:/f%3A/Python_Learn/2023-12-7.ipynb#X33sZmlsZQ%3D%3D?line=1'>2</a>\u001b[0m os\u001b[39m.\u001b[39mchdir(\u001b[39m'\u001b[39m\u001b[39mC:\u001b[39m\u001b[39m\\\\\u001b[39;00m\u001b[39m'\u001b[39m)\u001b[39m# move to the folder with example.zip\u001b[39;00m\n\u001b[1;32m----> <a href='vscode-notebook-cell:/f%3A/Python_Learn/2023-12-7.ipynb#X33sZmlsZQ%3D%3D?line=2'>3</a>\u001b[0m exampleZip \u001b[39m=\u001b[39m zipfile\u001b[39m.\u001b[39mZipFile(\u001b[39m'\u001b[39m\u001b[39mexample.zip\u001b[39m\u001b[39m'\u001b[39m)\n\u001b[0;32m      <a href='vscode-notebook-cell:/f%3A/Python_Learn/2023-12-7.ipynb#X33sZmlsZQ%3D%3D?line=3'>4</a>\u001b[0m exampleZip\u001b[39m.\u001b[39mnamelist()\n",
      "File \u001b[1;32md:\\anaconda3\\Lib\\zipfile.py:1283\u001b[0m, in \u001b[0;36mZipFile.__init__\u001b[1;34m(self, file, mode, compression, allowZip64, compresslevel, strict_timestamps, metadata_encoding)\u001b[0m\n\u001b[0;32m   1281\u001b[0m \u001b[39mwhile\u001b[39;00m \u001b[39mTrue\u001b[39;00m:\n\u001b[0;32m   1282\u001b[0m     \u001b[39mtry\u001b[39;00m:\n\u001b[1;32m-> 1283\u001b[0m         \u001b[39mself\u001b[39m\u001b[39m.\u001b[39mfp \u001b[39m=\u001b[39m io\u001b[39m.\u001b[39mopen(file, filemode)\n\u001b[0;32m   1284\u001b[0m     \u001b[39mexcept\u001b[39;00m \u001b[39mOSError\u001b[39;00m:\n\u001b[0;32m   1285\u001b[0m         \u001b[39mif\u001b[39;00m filemode \u001b[39min\u001b[39;00m modeDict:\n",
      "\u001b[1;31mFileNotFoundError\u001b[0m: [Errno 2] No such file or directory: 'example.zip'"
     ]
    }
   ],
   "source": [
    "import zipfile, os\n",
    "os.chdir('C:\\\\')# move to the folder with example.zip\n",
    "exampleZip = zipfile.ZipFile('example.zip')\n",
    "exampleZip.namelist()"
   ]
  },
  {
   "cell_type": "code",
   "execution_count": null,
   "metadata": {},
   "outputs": [],
   "source": []
  }
 ],
 "metadata": {
  "kernelspec": {
   "display_name": "base",
   "language": "python",
   "name": "python3"
  },
  "language_info": {
   "codemirror_mode": {
    "name": "ipython",
    "version": 3
   },
   "file_extension": ".py",
   "mimetype": "text/x-python",
   "name": "python",
   "nbconvert_exporter": "python",
   "pygments_lexer": "ipython3",
   "version": "3.11.3"
  }
 },
 "nbformat": 4,
 "nbformat_minor": 2
}
