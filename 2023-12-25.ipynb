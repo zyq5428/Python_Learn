{
 "cells": [
  {
   "cell_type": "code",
   "execution_count": 5,
   "metadata": {},
   "outputs": [
    {
     "ename": "DeprecationError",
     "evalue": "isEncrypted is deprecated and was removed in PyPDF2 3.0.0. Use is_encrypted instead.",
     "output_type": "error",
     "traceback": [
      "\u001b[1;31m---------------------------------------------------------------------------\u001b[0m",
      "\u001b[1;31mDeprecationError\u001b[0m                          Traceback (most recent call last)",
      "Cell \u001b[1;32mIn[5], line 22\u001b[0m\n\u001b[0;32m     20\u001b[0m pdfFilePath \u001b[38;5;241m=\u001b[39m \u001b[38;5;124m'\u001b[39m\u001b[38;5;124mF:\u001b[39m\u001b[38;5;130;01m\\\\\u001b[39;00m\u001b[38;5;124mPython_Learn\u001b[39m\u001b[38;5;130;01m\\\\\u001b[39;00m\u001b[38;5;124mautomate\u001b[39m\u001b[38;5;130;01m\\\\\u001b[39;00m\u001b[38;5;124mencrypted.pdf\u001b[39m\u001b[38;5;124m'\u001b[39m  \n\u001b[0;32m     21\u001b[0m pdfReader \u001b[38;5;241m=\u001b[39m PyPDF2\u001b[38;5;241m.\u001b[39mPdfReader(\u001b[38;5;28mopen\u001b[39m(pdfFilePath, \u001b[38;5;124m'\u001b[39m\u001b[38;5;124mrb\u001b[39m\u001b[38;5;124m'\u001b[39m))\n\u001b[1;32m---> 22\u001b[0m \u001b[38;5;28;01mif\u001b[39;00m pdfReader\u001b[38;5;241m.\u001b[39misEncrypted:\n\u001b[0;32m     23\u001b[0m     \u001b[38;5;28mprint\u001b[39m(\u001b[38;5;124m'\u001b[39m\u001b[38;5;124mDecrypting...\u001b[39m\u001b[38;5;124m'\u001b[39m)\n\u001b[0;32m     24\u001b[0m     \u001b[38;5;28;01mfor\u001b[39;00m word \u001b[38;5;129;01min\u001b[39;00m wordList:\n",
      "File \u001b[1;32md:\\anaconda3\\Lib\\site-packages\\PyPDF2\\_reader.py:1944\u001b[0m, in \u001b[0;36mPdfReader.isEncrypted\u001b[1;34m(self)\u001b[0m\n\u001b[0;32m   1937\u001b[0m \u001b[38;5;129m@property\u001b[39m\n\u001b[0;32m   1938\u001b[0m \u001b[38;5;28;01mdef\u001b[39;00m \u001b[38;5;21misEncrypted\u001b[39m(\u001b[38;5;28mself\u001b[39m) \u001b[38;5;241m-\u001b[39m\u001b[38;5;241m>\u001b[39m \u001b[38;5;28mbool\u001b[39m:  \u001b[38;5;66;03m# pragma: no cover\u001b[39;00m\n\u001b[0;32m   1939\u001b[0m \u001b[38;5;250m    \u001b[39m\u001b[38;5;124;03m\"\"\"\u001b[39;00m\n\u001b[0;32m   1940\u001b[0m \u001b[38;5;124;03m    .. deprecated:: 1.28.0\u001b[39;00m\n\u001b[0;32m   1941\u001b[0m \n\u001b[0;32m   1942\u001b[0m \u001b[38;5;124;03m        Use :py:attr:`is_encrypted` instead.\u001b[39;00m\n\u001b[0;32m   1943\u001b[0m \u001b[38;5;124;03m    \"\"\"\u001b[39;00m\n\u001b[1;32m-> 1944\u001b[0m     deprecation_with_replacement(\u001b[38;5;124m\"\u001b[39m\u001b[38;5;124misEncrypted\u001b[39m\u001b[38;5;124m\"\u001b[39m, \u001b[38;5;124m\"\u001b[39m\u001b[38;5;124mis_encrypted\u001b[39m\u001b[38;5;124m\"\u001b[39m, \u001b[38;5;124m\"\u001b[39m\u001b[38;5;124m3.0.0\u001b[39m\u001b[38;5;124m\"\u001b[39m)\n\u001b[0;32m   1945\u001b[0m     \u001b[38;5;28;01mreturn\u001b[39;00m \u001b[38;5;28mself\u001b[39m\u001b[38;5;241m.\u001b[39mis_encrypted\n",
      "File \u001b[1;32md:\\anaconda3\\Lib\\site-packages\\PyPDF2\\_utils.py:369\u001b[0m, in \u001b[0;36mdeprecation_with_replacement\u001b[1;34m(old_name, new_name, removed_in)\u001b[0m\n\u001b[0;32m    363\u001b[0m \u001b[38;5;28;01mdef\u001b[39;00m \u001b[38;5;21mdeprecation_with_replacement\u001b[39m(\n\u001b[0;32m    364\u001b[0m     old_name: \u001b[38;5;28mstr\u001b[39m, new_name: \u001b[38;5;28mstr\u001b[39m, removed_in: \u001b[38;5;28mstr\u001b[39m \u001b[38;5;241m=\u001b[39m \u001b[38;5;124m\"\u001b[39m\u001b[38;5;124m3.0.0\u001b[39m\u001b[38;5;124m\"\u001b[39m\n\u001b[0;32m    365\u001b[0m ) \u001b[38;5;241m-\u001b[39m\u001b[38;5;241m>\u001b[39m \u001b[38;5;28;01mNone\u001b[39;00m:\n\u001b[0;32m    366\u001b[0m \u001b[38;5;250m    \u001b[39m\u001b[38;5;124;03m\"\"\"\u001b[39;00m\n\u001b[0;32m    367\u001b[0m \u001b[38;5;124;03m    Raise an exception that a feature was already removed, but has a replacement.\u001b[39;00m\n\u001b[0;32m    368\u001b[0m \u001b[38;5;124;03m    \"\"\"\u001b[39;00m\n\u001b[1;32m--> 369\u001b[0m     deprecation(DEPR_MSG_HAPPENED\u001b[38;5;241m.\u001b[39mformat(old_name, removed_in, new_name))\n",
      "File \u001b[1;32md:\\anaconda3\\Lib\\site-packages\\PyPDF2\\_utils.py:351\u001b[0m, in \u001b[0;36mdeprecation\u001b[1;34m(msg)\u001b[0m\n\u001b[0;32m    350\u001b[0m \u001b[38;5;28;01mdef\u001b[39;00m \u001b[38;5;21mdeprecation\u001b[39m(msg: \u001b[38;5;28mstr\u001b[39m) \u001b[38;5;241m-\u001b[39m\u001b[38;5;241m>\u001b[39m \u001b[38;5;28;01mNone\u001b[39;00m:\n\u001b[1;32m--> 351\u001b[0m     \u001b[38;5;28;01mraise\u001b[39;00m DeprecationError(msg)\n",
      "\u001b[1;31mDeprecationError\u001b[0m: isEncrypted is deprecated and was removed in PyPDF2 3.0.0. Use is_encrypted instead."
     ]
    }
   ],
   "source": [
    "#暴力PDF 口令破解程序\n",
    "\n",
    "import PyPDF2\n",
    "\n",
    "def Decrypt(word):\n",
    "    if pdfReader.decrypt(word): #解密\n",
    "        print('Password is %s' % word) #打印密码\n",
    "        return -1\n",
    "    elif pdfReader.decrypt(word.lower()):\n",
    "        print('Password is %s' % word.lower())\n",
    "        return -1\n",
    "    else:\n",
    "        return 0\n",
    "\n",
    "dictFilePath = 'F:\\\\Python_Learn\\\\automate\\\\dictionary.txt'  #字典路径\n",
    "dictFile = open(dictFilePath)\n",
    "wordList = dictFile.read().split('\\n')\n",
    "dictFile.close()#关闭\n",
    "\n",
    "pdfFilePath = 'F:\\\\Python_Learn\\\\automate\\\\encrypted.pdf'  \n",
    "pdfReader = PyPDF2.PdfReader(open(pdfFilePath, 'rb'))\n",
    "if pdfReader.isEncrypted:\n",
    "    print('Decrypting...')#打印解密加密的数据\n",
    "    for word in wordList:\n",
    "        if Decrypt(word):\n",
    "            break\n",
    "        else:\n",
    "            continue\n",
    "else:\n",
    "    print('This PDF file is not encrypted.')\n"
   ]
  },
  {
   "cell_type": "code",
   "execution_count": null,
   "metadata": {},
   "outputs": [],
   "source": [
    "this is red0 \n",
    "very good\n"
   ]
  }
 ],
 "metadata": {
  "kernelspec": {
   "display_name": "base",
   "language": "python",
   "name": "python3"
  },
  "language_info": {
   "codemirror_mode": {
    "name": "ipython",
    "version": 3
   },
   "file_extension": ".py",
   "mimetype": "text/x-python",
   "name": "python",
   "nbconvert_exporter": "python",
   "pygments_lexer": "ipython3",
   "version": "3.11.3"
  }
 },
 "nbformat": 4,
 "nbformat_minor": 2
}
