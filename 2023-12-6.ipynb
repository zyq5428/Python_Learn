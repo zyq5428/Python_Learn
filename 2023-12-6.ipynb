{
 "cells": [
  {
   "cell_type": "code",
   "execution_count": 1,
   "metadata": {},
   "outputs": [],
   "source": [
    "import random"
   ]
  },
  {
   "cell_type": "code",
   "execution_count": 2,
   "metadata": {},
   "outputs": [],
   "source": [
    "capitals = {'Alabama': 'Montgomery', 'Alaska': 'Juneau', 'Arizona': 'Phoenix','Arkansas': 'Little Rock', 'California': 'Sacramento', 'Colorado': 'Denver',\n",
    "'Connecticut': 'Hartford', 'Delaware': 'Dover', 'Florida': 'Tallahassee',\n",
    "'Georgia': 'Atlanta', 'Hawaii': 'Honolulu', 'Idaho': 'Boise', 'Illinois':\n",
    "'Springfield', 'Indiana': 'Indianapolis', 'Iowa': 'Des Moines', 'Kansas':\n",
    "'Topeka', 'Kentucky': 'Frankfort', 'Louisiana': 'Baton Rouge', 'Maine':\n",
    "'Augusta', 'Maryland': 'Annapolis', 'Massachusetts': 'Boston', 'Michigan':\n",
    "'Lansing', 'Minnesota': 'Saint Paul', 'Mississippi': 'Jackson', 'Missouri':\n",
    "'Jefferson City', 'Montana': 'Helena', 'Nebraska': 'Lincoln', 'Nevada':\n",
    "'Carson City', 'New Hampshire': 'Concord', 'New Jersey': 'Trenton', 'NewMexico': 'Santa Fe','New York': 'Albany', 'North Carolina': 'Raleigh', 'North Dakota': 'Bismark','Ohio': 'Columbus', 'Oklahoma': 'Oklahoma City','Oregon': 'Salem', 'Pennsylvania': 'Harrisburg', 'Rhode Island': 'Providence',\n",
    "'South Carolina': 'Columbia', 'South Dakota': 'Pierre', 'Tennessee':\n",
    "'Nashville', 'Texas': 'Austin', 'Utah': 'Salt Lake City', 'Vermont':\n",
    "'Montpelier', 'Virginia': 'Richmond', 'Washington': 'Olympia', 'WestVirginia': 'Charleston', 'Wisconsin': 'Madison', 'Wyoming': 'Cheyenne'}"
   ]
  },
  {
   "cell_type": "code",
   "execution_count": 5,
   "metadata": {},
   "outputs": [
    {
     "ename": "NameError",
     "evalue": "name 'answerkeyFile' is not defined",
     "output_type": "error",
     "traceback": [
      "\u001b[1;31m---------------------------------------------------------------------------\u001b[0m",
      "\u001b[1;31mNameError\u001b[0m                                 Traceback (most recent call last)",
      "\u001b[1;32mf:\\Python_Learn\\2023-12-6.ipynb 单元格 3\u001b[0m line \u001b[0;36m2\n\u001b[0;32m     <a href='vscode-notebook-cell:/f%3A/Python_Learn/2023-12-6.ipynb#W2sZmlsZQ%3D%3D?line=17'>18</a>\u001b[0m     quizfile\u001b[39m.\u001b[39mwrite(\u001b[39m'\u001b[39m\u001b[39m    \u001b[39m\u001b[39m%s\u001b[39;00m\u001b[39m. \u001b[39m\u001b[39m%s\u001b[39;00m\u001b[39m\\n\u001b[39;00m\u001b[39m'\u001b[39m \u001b[39m%\u001b[39m (\u001b[39m'\u001b[39m\u001b[39mABCD\u001b[39m\u001b[39m'\u001b[39m[i], answer_options[i]))\n\u001b[0;32m     <a href='vscode-notebook-cell:/f%3A/Python_Learn/2023-12-6.ipynb#W2sZmlsZQ%3D%3D?line=18'>19</a>\u001b[0m quizfile\u001b[39m.\u001b[39mwrite(\u001b[39m'\u001b[39m\u001b[39m\\n\u001b[39;00m\u001b[39m'\u001b[39m)\n\u001b[1;32m---> <a href='vscode-notebook-cell:/f%3A/Python_Learn/2023-12-6.ipynb#W2sZmlsZQ%3D%3D?line=19'>20</a>\u001b[0m answerkeyFile\u001b[39m.\u001b[39mwrite(\u001b[39m'\u001b[39m\u001b[39m%s\u001b[39;00m\u001b[39m. \u001b[39m\u001b[39m%s\u001b[39;00m\u001b[39m\\n\u001b[39;00m\u001b[39m'\u001b[39m \u001b[39m%\u001b[39m (questionnum \u001b[39m+\u001b[39m \u001b[39m1\u001b[39m, \u001b[39m'\u001b[39m\u001b[39mABCD\u001b[39m\u001b[39m'\u001b[39m[answer_options\u001b[39m.\u001b[39mindex(correct_answer)]))\n\u001b[0;32m     <a href='vscode-notebook-cell:/f%3A/Python_Learn/2023-12-6.ipynb#W2sZmlsZQ%3D%3D?line=20'>21</a>\u001b[0m quizfile\u001b[39m.\u001b[39mclose()\n\u001b[0;32m     <a href='vscode-notebook-cell:/f%3A/Python_Learn/2023-12-6.ipynb#W2sZmlsZQ%3D%3D?line=21'>22</a>\u001b[0m answerkeyFile\u001b[39m.\u001b[39mclose()\n",
      "\u001b[1;31mNameError\u001b[0m: name 'answerkeyFile' is not defined"
     ]
    }
   ],
   "source": [
    "for quiznum in range(35):\n",
    "    quizfile = open('capitalsquiz%s.txt' % (quiznum + 1), 'w')\n",
    "    answerkey = open('capitalsquiz_answers%s.txt' % (quiznum + 1), 'w')\n",
    "    quizfile.write('Name:\\n\\nDate:\\n\\nPeriod:\\n\\n')\n",
    "    quizfile.write((' ' * 20) + 'State Capitals Quiz (Form %s)' % (quiznum + 1))\n",
    "    quizfile.write('\\n\\n')\n",
    "    states = list(capitals.keys())\n",
    "    random.shuffle(states)\n",
    "    for questionnum in range(50):\n",
    "        correct_answer = capitals[states[questionnum]]\n",
    "        wrong_answers = list(capitals.values())\n",
    "        del wrong_answers[wrong_answers.index(correct_answer)]\n",
    "        wrong_answers = random.sample(wrong_answers, 3)\n",
    "        answer_options = wrong_answers + [correct_answer]\n",
    "        random.shuffle(answer_options)\n",
    "        quizfile.write('%s. What is the capital of %s?\\n' % (questionnum + 1, states[questionnum]))\n",
    "        for i in range(4):\n",
    "            quizfile.write('    %s. %s\\n' % ('ABCD'[i], answer_options[i]))\n",
    "        quizfile.write('\\n')\n",
    "        answerkeyFile.write('%s. %s\\n' % (questionnum + 1, 'ABCD'[answer_options.index(correct_answer)]))\n",
    "        quizfile.close()\n",
    "        answerkeyFile.close()"
   ]
  },
  {
   "cell_type": "code",
   "execution_count": null,
   "metadata": {},
   "outputs": [],
   "source": []
  }
 ],
 "metadata": {
  "kernelspec": {
   "display_name": "base",
   "language": "python",
   "name": "python3"
  },
  "language_info": {
   "codemirror_mode": {
    "name": "ipython",
    "version": 3
   },
   "file_extension": ".py",
   "mimetype": "text/x-python",
   "name": "python",
   "nbconvert_exporter": "python",
   "pygments_lexer": "ipython3",
   "version": "3.11.3"
  }
 },
 "nbformat": 4,
 "nbformat_minor": 2
}
