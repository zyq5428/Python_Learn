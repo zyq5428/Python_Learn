{
 "cells": [
  {
   "cell_type": "code",
   "execution_count": 4,
   "metadata": {},
   "outputs": [],
   "source": [
    "import requests\n",
    "import logging\n",
    "import re\n",
    "import pymongo\n",
    "from pyquery import PyQuery as pq\n",
    "from urllib.parse import urljoin\n",
    "\n",
    "logging.basicConfig(level=logging.INFO, \n",
    "                    format='%(asctime)s - %(levelname)s: %(message)s')\n",
    "\n",
    "BASE_URL = 'https://ssr1.scrape.center'\n",
    "TOTAL_PAGE = 10\n",
    "\n",
    "'''\n",
    "程序作用: 爬取指定页面，返回页面文本\n",
    "参数: url (爬取页面地址)\n",
    "返回值: response.text (页面文本)\n",
    "'''\n",
    "\n",
    "def scrape_page(url):\n",
    "    logging.info('scraping %s', url)\n",
    "    try:\n",
    "        response = requests.get(url)\n",
    "        if response.status_code == 200:\n",
    "            return response.text\n",
    "        logging.info('get invalid status code %s while scraping %s', \n",
    "        response.status_code, url)\n",
    "    except requests.RequestException:\n",
    "        logging.error('error occurred while scraping %s', url, exc_info=True)\n",
    "\n",
    "'''\n",
    "程序作用: 爬取电影列表页，返回列表页面的文本\n",
    "参数: page (电影列表页)\n",
    "返回值: scrape_page函数结果 (电影列表页面的文本)\n",
    "'''\n",
    "\n",
    "def scrape_index(page):\n",
    "    index_url = f'{BASE_URL}/page/{page}'\n",
    "    return scrape_page(index_url)\n",
    "\n",
    "'''\n",
    "程序作用: 解析电影列表页，返回每部电影的详情页网址\n",
    "参数: html (电影列表页面的文本)\n",
    "返回值: detail_url (电影详情页网址)\n",
    "'''\n",
    "\n",
    "def parse_index(html):\n",
    "    doc = pq(html)\n",
    "    links = doc('.el-card .name')\n",
    "    for link in links.items():\n",
    "        href = link.attr('href')\n",
    "        detail_url = urljoin(BASE_URL, href)\n",
    "        logging.info('get detail url %s', detail_url)\n",
    "        yield detail_url\n",
    "\n",
    "'''\n",
    "程序作用: 爬取电影详情页，返回详情页面的文本\n",
    "参数: url (电影详情页网址)\n",
    "返回值: scrape_page函数结果 (电影详情页面的文本)\n",
    "'''\n",
    "\n",
    "def scrape_detail(url):\n",
    "    return scrape_page(url)\n",
    "\n",
    "'''\n",
    "\n",
    "程序作用: 解析电影列表页，返回每部电影的详情页网址\n",
    "参数: html (电影列表页面的文本)\n",
    "返回值: detail_url (电影详情页网址)\n",
    "'''\n",
    "\n",
    "def parse_detail(html):\n",
    "    doc = pq(html)\n",
    "    cover = doc('img.cover').attr('src')\n",
    "    name = doc('a > h2').text()\n",
    "    categories = [item.text() for item in doc('.categories button span').items()]\n",
    "    published_at = doc('.info:contains(上映)').text()\n",
    "    published_at = re.search(r'\\d{4}-\\d{2}-\\d{2}', published_at).group(1) \\\n",
    "        if published_at and re.search(r'\\d{4}-\\d{2}-\\d{2}', published_at) else None\n",
    "    drama = doc('.drama p').text()\n",
    "    score = doc('.score').text()\n",
    "    score = float(score) if score else None\n",
    "    return {\n",
    "        'cover': cover,\n",
    "        'name': name,\n",
    "        'categories': categories,\n",
    "        'published_at': published_at,\n",
    "        'drama': drama,\n",
    "        'score': score\n",
    "    }"
   ]
  },
  {
   "cell_type": "code",
   "execution_count": 26,
   "metadata": {},
   "outputs": [
    {
     "name": "stdout",
     "output_type": "stream",
     "text": [
      "9.5\n"
     ]
    }
   ],
   "source": [
    "score = doc('.score').text()\n",
    "score = float(score) if score else None\n",
    "print(score)"
   ]
  },
  {
   "cell_type": "code",
   "execution_count": 7,
   "metadata": {},
   "outputs": [
    {
     "name": "stderr",
     "output_type": "stream",
     "text": [
      "2024-01-20 11:17:54,128 - INFO: scraping https://ssr1.scrape.center/detail/1\n"
     ]
    }
   ],
   "source": [
    "detail_html = scrape_detail('https://ssr1.scrape.center/detail/1')\n",
    "doc = pq(detail_html)"
   ]
  },
  {
   "cell_type": "code",
   "execution_count": 8,
   "metadata": {},
   "outputs": [
    {
     "name": "stdout",
     "output_type": "stream",
     "text": [
      "https://p0.meituan.net/movie/ce4da3e03e655b5b88ed31b5cd7896cf62472.jpg@464w_644h_1e_1c\n"
     ]
    }
   ],
   "source": [
    "cover = doc('img.cover').attr('src')\n",
    "print(cover)"
   ]
  },
  {
   "cell_type": "code",
   "execution_count": 9,
   "metadata": {},
   "outputs": [
    {
     "name": "stdout",
     "output_type": "stream",
     "text": [
      "霸王别姬 - Farewell My Concubine\n"
     ]
    }
   ],
   "source": [
    "name = doc('a > h2').text()\n",
    "print(name)"
   ]
  },
  {
   "cell_type": "code",
   "execution_count": 10,
   "metadata": {},
   "outputs": [
    {
     "name": "stdout",
     "output_type": "stream",
     "text": [
      "['剧情', '爱情']\n"
     ]
    }
   ],
   "source": [
    "categories = [item.text() for item in doc('.categories button span').items()]\n",
    "print(categories)"
   ]
  },
  {
   "cell_type": "code",
   "execution_count": 24,
   "metadata": {},
   "outputs": [
    {
     "name": "stdout",
     "output_type": "stream",
     "text": [
      "1993-07-26 上映\n",
      "1993-07-26\n"
     ]
    }
   ],
   "source": [
    "published_at = doc('.info:contains(上映)').text()\n",
    "print(published_at)\n",
    "published_at = re.search(r'\\d{4}-\\d{2}-\\d{2}', published_at).group(0) \\\n",
    "        if published_at and re.search(r'\\d{4}-\\d{2}-\\d{2}', published_at) else None\n",
    "print(published_at)"
   ]
  },
  {
   "cell_type": "code",
   "execution_count": 19,
   "metadata": {},
   "outputs": [
    {
     "name": "stdout",
     "output_type": "stream",
     "text": [
      "()\n"
     ]
    }
   ],
   "source": [
    "published_at = re.search(r'\\d{4}', '1993-07-26 上映').groups()\n",
    "print(published_at)"
   ]
  },
  {
   "cell_type": "code",
   "execution_count": 22,
   "metadata": {},
   "outputs": [
    {
     "name": "stdout",
     "output_type": "stream",
     "text": [
      "www\n"
     ]
    }
   ],
   "source": [
    "print(re.search('www', 'www.runoob.com').group(0))"
   ]
  }
 ],
 "metadata": {
  "kernelspec": {
   "display_name": "base",
   "language": "python",
   "name": "python3"
  },
  "language_info": {
   "codemirror_mode": {
    "name": "ipython",
    "version": 3
   },
   "file_extension": ".py",
   "mimetype": "text/x-python",
   "name": "python",
   "nbconvert_exporter": "python",
   "pygments_lexer": "ipython3",
   "version": "3.11.3"
  }
 },
 "nbformat": 4,
 "nbformat_minor": 2
}
