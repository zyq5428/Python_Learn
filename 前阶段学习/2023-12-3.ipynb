{
 "cells": [
  {
   "cell_type": "code",
   "execution_count": 8,
   "id": "15e40e6e-0ce5-495d-8878-9bc7befcbe7d",
   "metadata": {
    "tags": []
   },
   "outputs": [],
   "source": [
    "a = '.'"
   ]
  },
  {
   "cell_type": "code",
   "execution_count": 5,
   "id": "b0def468-5dca-4cc3-be54-98ab1b2b363c",
   "metadata": {
    "tags": []
   },
   "outputs": [],
   "source": [
    "list_a = ['tom', 'kate', 'lucy']"
   ]
  },
  {
   "cell_type": "code",
   "execution_count": 9,
   "id": "07e7b392-db80-4636-8cbe-0b551f83d104",
   "metadata": {
    "tags": []
   },
   "outputs": [
    {
     "name": "stdout",
     "output_type": "stream",
     "text": [
      "tom.kate.lucy\n"
     ]
    }
   ],
   "source": [
    "print(a.join(list_a))"
   ]
  },
  {
   "cell_type": "code",
   "execution_count": 7,
   "id": "567081d7-b055-45cd-bfa4-9d73ed702645",
   "metadata": {
    "tags": []
   },
   "outputs": [
    {
     "data": {
      "text/plain": [
       "'-'"
      ]
     },
     "execution_count": 7,
     "metadata": {},
     "output_type": "execute_result"
    }
   ],
   "source": [
    "a"
   ]
  },
  {
   "cell_type": "code",
   "execution_count": null,
   "id": "2356c751-d124-471f-bc6d-c90e4097ecfa",
   "metadata": {},
   "outputs": [],
   "source": []
  }
 ],
 "metadata": {
  "kernelspec": {
   "display_name": "Python 3 (ipykernel)",
   "language": "python",
   "name": "python3"
  },
  "language_info": {
   "codemirror_mode": {
    "name": "ipython",
    "version": 3
   },
   "file_extension": ".py",
   "mimetype": "text/x-python",
   "name": "python",
   "nbconvert_exporter": "python",
   "pygments_lexer": "ipython3",
   "version": "3.11.3"
  }
 },
 "nbformat": 4,
 "nbformat_minor": 5
}
