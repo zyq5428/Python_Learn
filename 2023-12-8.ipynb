{
 "cells": [
  {
   "cell_type": "code",
   "execution_count": 5,
   "metadata": {},
   "outputs": [],
   "source": [
    "import zipfile\n",
    "newZip = zipfile.ZipFile('new.zip', 'w')\n",
    "newZip.write('F:\\\\LUCY.txt', compress_type=zipfile.ZIP_DEFLATED)\n",
    "newZip.close()"
   ]
  },
  {
   "cell_type": "code",
   "execution_count": 15,
   "metadata": {},
   "outputs": [],
   "source": [
    "import shutil, os, re\n",
    "datePattern = re.compile(r\"\"\"^(.*?) # all text before the date\n",
    "    ((0|1)?\\d)-\n",
    "    ((0|1|2|3)?\\d)-\n",
    "    ((19|20)\\d\\d)\n",
    "    (.*?)$\n",
    "    \"\"\", re.VERBOSE)"
   ]
  },
  {
   "cell_type": "code",
   "execution_count": 14,
   "metadata": {},
   "outputs": [
    {
     "ename": "AttributeError",
     "evalue": "module 'os' has no attribute 'listder'",
     "output_type": "error",
     "traceback": [
      "\u001b[1;31m---------------------------------------------------------------------------\u001b[0m",
      "\u001b[1;31mAttributeError\u001b[0m                            Traceback (most recent call last)",
      "\u001b[1;32mf:\\Python_Learn\\2023-12-8.ipynb 单元格 3\u001b[0m line \u001b[0;36m2\n\u001b[0;32m      <a href='vscode-notebook-cell:/f%3A/Python_Learn/2023-12-8.ipynb#W2sZmlsZQ%3D%3D?line=0'>1</a>\u001b[0m \u001b[39m# TODO: Loop over the files in the working directory.\u001b[39;00m\n\u001b[1;32m----> <a href='vscode-notebook-cell:/f%3A/Python_Learn/2023-12-8.ipynb#W2sZmlsZQ%3D%3D?line=1'>2</a>\u001b[0m \u001b[39mfor\u001b[39;00m amerFilename \u001b[39min\u001b[39;00m os\u001b[39m.\u001b[39mlistder(\u001b[39m'\u001b[39m\u001b[39m.\u001b[39m\u001b[39m'\u001b[39m):\n\u001b[0;32m      <a href='vscode-notebook-cell:/f%3A/Python_Learn/2023-12-8.ipynb#W2sZmlsZQ%3D%3D?line=2'>3</a>\u001b[0m     mo \u001b[39m=\u001b[39m datePattern\u001b[39m.\u001b[39msearch(amerFilename)\n\u001b[0;32m      <a href='vscode-notebook-cell:/f%3A/Python_Learn/2023-12-8.ipynb#W2sZmlsZQ%3D%3D?line=3'>4</a>\u001b[0m     \u001b[39mprint\u001b[39m\n",
      "\u001b[1;31mAttributeError\u001b[0m: module 'os' has no attribute 'listder'"
     ]
    }
   ],
   "source": [
    "# TODO: Loop over the files in the working directory.\n",
    "for amerFilename in os.listder('.'):\n",
    "    mo = datePattern.search(amerFilename)"
   ]
  },
  {
   "cell_type": "code",
   "execution_count": 9,
   "metadata": {},
   "outputs": [],
   "source": [
    "# TODO: Skip files without a date."
   ]
  },
  {
   "cell_type": "code",
   "execution_count": 10,
   "metadata": {},
   "outputs": [],
   "source": [
    "# TODO: Get the different parts of the filename."
   ]
  },
  {
   "cell_type": "code",
   "execution_count": 11,
   "metadata": {},
   "outputs": [],
   "source": [
    "# TODO: Form the European-style filename."
   ]
  },
  {
   "cell_type": "code",
   "execution_count": 12,
   "metadata": {},
   "outputs": [],
   "source": [
    "# TODO: Get the full, absolute file paths."
   ]
  },
  {
   "cell_type": "code",
   "execution_count": null,
   "metadata": {},
   "outputs": [],
   "source": [
    "# TODO: Rename the files."
   ]
  }
 ],
 "metadata": {
  "kernelspec": {
   "display_name": "base",
   "language": "python",
   "name": "python3"
  },
  "language_info": {
   "codemirror_mode": {
    "name": "ipython",
    "version": 3
   },
   "file_extension": ".py",
   "mimetype": "text/x-python",
   "name": "python",
   "nbconvert_exporter": "python",
   "pygments_lexer": "ipython3",
   "version": "3.11.3"
  }
 },
 "nbformat": 4,
 "nbformat_minor": 2
}
