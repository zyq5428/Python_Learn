{
 "cells": [
  {
   "cell_type": "code",
   "execution_count": 4,
   "metadata": {},
   "outputs": [],
   "source": [
    "import requests\n",
    "import logging\n",
    "import time\n"
   ]
  },
  {
   "cell_type": "code",
   "execution_count": 6,
   "metadata": {},
   "outputs": [
    {
     "name": "stderr",
     "output_type": "stream",
     "text": [
      "2024-01-17 19:25:23,564-INFO:scraping https://ssr1.scrape.center/1\n",
      "2024-01-17 19:25:23,996-INFO:scraping https://ssr1.scrape.center/2\n",
      "2024-01-17 19:25:24,136-INFO:scraping https://ssr1.scrape.center/3\n",
      "2024-01-17 19:25:24,320-INFO:scraping https://ssr1.scrape.center/4\n",
      "2024-01-17 19:25:24,517-INFO:scraping https://ssr1.scrape.center/5\n",
      "2024-01-17 19:25:24,666-INFO:scraping https://ssr1.scrape.center/6\n",
      "2024-01-17 19:25:24,805-INFO:scraping https://ssr1.scrape.center/7\n",
      "2024-01-17 19:25:24,938-INFO:scraping https://ssr1.scrape.center/8\n",
      "2024-01-17 19:25:25,113-INFO:scraping https://ssr1.scrape.center/9\n",
      "2024-01-17 19:25:25,288-INFO:scraping https://ssr1.scrape.center/10\n",
      "2024-01-17 19:25:25,463-INFO:scraping https://ssr1.scrape.center/11\n",
      "2024-01-17 19:25:25,607-INFO:scraping https://ssr1.scrape.center/12\n",
      "2024-01-17 19:25:27,288-INFO:scraping https://ssr1.scrape.center/13\n",
      "2024-01-17 19:25:27,422-INFO:scraping https://ssr1.scrape.center/14\n",
      "2024-01-17 19:25:27,547-INFO:scraping https://ssr1.scrape.center/15\n",
      "2024-01-17 19:25:27,655-INFO:scraping https://ssr1.scrape.center/16\n",
      "2024-01-17 19:25:27,823-INFO:scraping https://ssr1.scrape.center/17\n",
      "2024-01-17 19:25:27,999-INFO:scraping https://ssr1.scrape.center/18\n",
      "2024-01-17 19:25:28,137-INFO:scraping https://ssr1.scrape.center/19\n",
      "2024-01-17 19:25:28,321-INFO:scraping https://ssr1.scrape.center/20\n",
      "2024-01-17 19:25:28,496-INFO:scraping https://ssr1.scrape.center/21\n",
      "2024-01-17 19:25:28,630-INFO:scraping https://ssr1.scrape.center/22\n",
      "2024-01-17 19:25:28,740-INFO:scraping https://ssr1.scrape.center/23\n",
      "2024-01-17 19:25:28,872-INFO:scraping https://ssr1.scrape.center/24\n",
      "2024-01-17 19:25:29,047-INFO:scraping https://ssr1.scrape.center/25\n",
      "2024-01-17 19:25:29,182-INFO:scraping https://ssr1.scrape.center/26\n",
      "2024-01-17 19:25:29,334-INFO:scraping https://ssr1.scrape.center/27\n",
      "2024-01-17 19:25:29,511-INFO:scraping https://ssr1.scrape.center/28\n",
      "2024-01-17 19:25:29,647-INFO:scraping https://ssr1.scrape.center/29\n",
      "2024-01-17 19:25:29,774-INFO:scraping https://ssr1.scrape.center/30\n",
      "2024-01-17 19:25:29,906-INFO:scraping https://ssr1.scrape.center/31\n",
      "2024-01-17 19:25:30,048-INFO:scraping https://ssr1.scrape.center/32\n",
      "2024-01-17 19:25:30,157-INFO:scraping https://ssr1.scrape.center/33\n",
      "2024-01-17 19:25:30,291-INFO:scraping https://ssr1.scrape.center/34\n",
      "2024-01-17 19:25:30,426-INFO:scraping https://ssr1.scrape.center/35\n",
      "2024-01-17 19:25:30,567-INFO:scraping https://ssr1.scrape.center/36\n",
      "2024-01-17 19:25:30,702-INFO:scraping https://ssr1.scrape.center/37\n",
      "2024-01-17 19:25:30,882-INFO:scraping https://ssr1.scrape.center/38\n",
      "2024-01-17 19:25:31,014-INFO:scraping https://ssr1.scrape.center/39\n",
      "2024-01-17 19:25:31,148-INFO:scraping https://ssr1.scrape.center/40\n",
      "2024-01-17 19:25:31,281-INFO:scraping https://ssr1.scrape.center/41\n",
      "2024-01-17 19:25:31,417-INFO:scraping https://ssr1.scrape.center/42\n",
      "2024-01-17 19:25:31,553-INFO:scraping https://ssr1.scrape.center/43\n",
      "2024-01-17 19:25:31,727-INFO:scraping https://ssr1.scrape.center/44\n",
      "2024-01-17 19:25:31,909-INFO:scraping https://ssr1.scrape.center/45\n",
      "2024-01-17 19:25:32,045-INFO:scraping https://ssr1.scrape.center/46\n",
      "2024-01-17 19:25:32,160-INFO:scraping https://ssr1.scrape.center/47\n",
      "2024-01-17 19:25:32,297-INFO:scraping https://ssr1.scrape.center/48\n",
      "2024-01-17 19:25:32,483-INFO:scraping https://ssr1.scrape.center/49\n",
      "2024-01-17 19:25:32,660-INFO:scraping https://ssr1.scrape.center/50\n",
      "2024-01-17 19:25:32,845-INFO:scraping https://ssr1.scrape.center/51\n",
      "2024-01-17 19:25:33,025-INFO:scraping https://ssr1.scrape.center/52\n",
      "2024-01-17 19:25:33,205-INFO:scraping https://ssr1.scrape.center/53\n",
      "2024-01-17 19:25:33,341-INFO:scraping https://ssr1.scrape.center/54\n",
      "2024-01-17 19:25:33,523-INFO:scraping https://ssr1.scrape.center/55\n",
      "2024-01-17 19:25:33,659-INFO:scraping https://ssr1.scrape.center/56\n",
      "2024-01-17 19:25:33,802-INFO:scraping https://ssr1.scrape.center/57\n",
      "2024-01-17 19:25:33,938-INFO:scraping https://ssr1.scrape.center/58\n",
      "2024-01-17 19:25:34,113-INFO:scraping https://ssr1.scrape.center/59\n",
      "2024-01-17 19:25:34,220-INFO:scraping https://ssr1.scrape.center/60\n",
      "2024-01-17 19:25:34,350-INFO:scraping https://ssr1.scrape.center/61\n",
      "2024-01-17 19:25:34,455-INFO:scraping https://ssr1.scrape.center/62\n",
      "2024-01-17 19:25:34,635-INFO:scraping https://ssr1.scrape.center/63\n",
      "2024-01-17 19:25:34,746-INFO:scraping https://ssr1.scrape.center/64\n",
      "2024-01-17 19:25:34,920-INFO:scraping https://ssr1.scrape.center/65\n",
      "2024-01-17 19:25:35,033-INFO:scraping https://ssr1.scrape.center/66\n",
      "2024-01-17 19:25:35,141-INFO:scraping https://ssr1.scrape.center/67\n",
      "2024-01-17 19:25:35,267-INFO:scraping https://ssr1.scrape.center/68\n",
      "2024-01-17 19:25:35,380-INFO:scraping https://ssr1.scrape.center/69\n",
      "2024-01-17 19:25:35,516-INFO:scraping https://ssr1.scrape.center/70\n",
      "2024-01-17 19:25:35,650-INFO:scraping https://ssr1.scrape.center/71\n",
      "2024-01-17 19:25:35,786-INFO:scraping https://ssr1.scrape.center/72\n",
      "2024-01-17 19:25:35,921-INFO:scraping https://ssr1.scrape.center/73\n",
      "2024-01-17 19:25:36,059-INFO:scraping https://ssr1.scrape.center/74\n",
      "2024-01-17 19:25:36,192-INFO:scraping https://ssr1.scrape.center/75\n",
      "2024-01-17 19:25:36,328-INFO:scraping https://ssr1.scrape.center/76\n",
      "2024-01-17 19:25:36,441-INFO:scraping https://ssr1.scrape.center/77\n",
      "2024-01-17 19:25:36,619-INFO:scraping https://ssr1.scrape.center/78\n",
      "2024-01-17 19:25:36,791-INFO:scraping https://ssr1.scrape.center/79\n",
      "2024-01-17 19:25:36,898-INFO:scraping https://ssr1.scrape.center/80\n",
      "2024-01-17 19:25:37,048-INFO:scraping https://ssr1.scrape.center/81\n",
      "2024-01-17 19:25:37,164-INFO:scraping https://ssr1.scrape.center/82\n",
      "2024-01-17 19:25:37,309-INFO:scraping https://ssr1.scrape.center/83\n",
      "2024-01-17 19:25:37,458-INFO:scraping https://ssr1.scrape.center/84\n",
      "2024-01-17 19:25:37,589-INFO:scraping https://ssr1.scrape.center/85\n",
      "2024-01-17 19:25:37,705-INFO:scraping https://ssr1.scrape.center/86\n",
      "2024-01-17 19:25:37,886-INFO:scraping https://ssr1.scrape.center/87\n",
      "2024-01-17 19:25:37,991-INFO:scraping https://ssr1.scrape.center/88\n",
      "2024-01-17 19:25:38,160-INFO:scraping https://ssr1.scrape.center/89\n",
      "2024-01-17 19:25:38,267-INFO:scraping https://ssr1.scrape.center/90\n",
      "2024-01-17 19:25:38,406-INFO:scraping https://ssr1.scrape.center/91\n",
      "2024-01-17 19:25:38,515-INFO:scraping https://ssr1.scrape.center/92\n",
      "2024-01-17 19:25:38,647-INFO:scraping https://ssr1.scrape.center/93\n",
      "2024-01-17 19:25:38,753-INFO:scraping https://ssr1.scrape.center/94\n",
      "2024-01-17 19:25:38,863-INFO:scraping https://ssr1.scrape.center/95\n",
      "2024-01-17 19:25:38,993-INFO:scraping https://ssr1.scrape.center/96\n",
      "2024-01-17 19:25:39,162-INFO:scraping https://ssr1.scrape.center/97\n",
      "2024-01-17 19:25:39,352-INFO:scraping https://ssr1.scrape.center/98\n",
      "2024-01-17 19:25:39,487-INFO:scraping https://ssr1.scrape.center/99\n",
      "2024-01-17 19:25:39,664-INFO:scraping https://ssr1.scrape.center/100\n",
      "2024-01-17 19:25:39,794-INFO:total time 16.230664491653442 seconds\n"
     ]
    }
   ],
   "source": [
    "logging.basicConfig(level=logging.INFO,format='%(asctime)s-%(levelname)s:%(message)s')\n",
    "TOTAL_NUMBER = 100\n",
    "BASE_URL = 'https://ssr1.scrape.center/{id}'\n",
    "start_time = time.time()\n",
    "for id in range(1, TOTAL_NUMBER+1):\n",
    "    url = BASE_URL.format(id=id)\n",
    "    logging.info('scraping %s', url)\n",
    "    response = requests.get(url)\n",
    "end_time = time.time()\n",
    "logging.info('total time %s seconds', end_time - start_time)"
   ]
  },
  {
   "cell_type": "code",
   "execution_count": 7,
   "metadata": {},
   "outputs": [
    {
     "name": "stdout",
     "output_type": "stream",
     "text": [
      "Coroutine: <coroutine object execute at 0x000002590DFD3850>\n",
      "After calling execute\n"
     ]
    },
    {
     "ename": "RuntimeError",
     "evalue": "This event loop is already running",
     "output_type": "error",
     "traceback": [
      "\u001b[1;31m---------------------------------------------------------------------------\u001b[0m",
      "\u001b[1;31mRuntimeError\u001b[0m                              Traceback (most recent call last)",
      "Cell \u001b[1;32mIn[7], line 8\u001b[0m\n\u001b[0;32m      6\u001b[0m \u001b[38;5;28mprint\u001b[39m(\u001b[38;5;124m'\u001b[39m\u001b[38;5;124mAfter calling execute\u001b[39m\u001b[38;5;124m'\u001b[39m)\n\u001b[0;32m      7\u001b[0m loop \u001b[38;5;241m=\u001b[39m asyncio\u001b[38;5;241m.\u001b[39mget_event_loop()\n\u001b[1;32m----> 8\u001b[0m loop\u001b[38;5;241m.\u001b[39mrun_until_complete(coroutine)\n\u001b[0;32m      9\u001b[0m \u001b[38;5;28mprint\u001b[39m(\u001b[38;5;124m'\u001b[39m\u001b[38;5;124mAfter calling loop\u001b[39m\u001b[38;5;124m'\u001b[39m)\n",
      "File \u001b[1;32md:\\anaconda3\\Lib\\asyncio\\base_events.py:629\u001b[0m, in \u001b[0;36mBaseEventLoop.run_until_complete\u001b[1;34m(self, future)\u001b[0m\n\u001b[0;32m    618\u001b[0m \u001b[38;5;250m\u001b[39m\u001b[38;5;124;03m\"\"\"Run until the Future is done.\u001b[39;00m\n\u001b[0;32m    619\u001b[0m \n\u001b[0;32m    620\u001b[0m \u001b[38;5;124;03mIf the argument is a coroutine, it is wrapped in a Task.\u001b[39;00m\n\u001b[1;32m   (...)\u001b[0m\n\u001b[0;32m    626\u001b[0m \u001b[38;5;124;03mReturn the Future's result, or raise its exception.\u001b[39;00m\n\u001b[0;32m    627\u001b[0m \u001b[38;5;124;03m\"\"\"\u001b[39;00m\n\u001b[0;32m    628\u001b[0m \u001b[38;5;28mself\u001b[39m\u001b[38;5;241m.\u001b[39m_check_closed()\n\u001b[1;32m--> 629\u001b[0m \u001b[38;5;28mself\u001b[39m\u001b[38;5;241m.\u001b[39m_check_running()\n\u001b[0;32m    631\u001b[0m new_task \u001b[38;5;241m=\u001b[39m \u001b[38;5;129;01mnot\u001b[39;00m futures\u001b[38;5;241m.\u001b[39misfuture(future)\n\u001b[0;32m    632\u001b[0m future \u001b[38;5;241m=\u001b[39m tasks\u001b[38;5;241m.\u001b[39mensure_future(future, loop\u001b[38;5;241m=\u001b[39m\u001b[38;5;28mself\u001b[39m)\n",
      "File \u001b[1;32md:\\anaconda3\\Lib\\asyncio\\base_events.py:588\u001b[0m, in \u001b[0;36mBaseEventLoop._check_running\u001b[1;34m(self)\u001b[0m\n\u001b[0;32m    586\u001b[0m \u001b[38;5;28;01mdef\u001b[39;00m \u001b[38;5;21m_check_running\u001b[39m(\u001b[38;5;28mself\u001b[39m):\n\u001b[0;32m    587\u001b[0m     \u001b[38;5;28;01mif\u001b[39;00m \u001b[38;5;28mself\u001b[39m\u001b[38;5;241m.\u001b[39mis_running():\n\u001b[1;32m--> 588\u001b[0m         \u001b[38;5;28;01mraise\u001b[39;00m \u001b[38;5;167;01mRuntimeError\u001b[39;00m(\u001b[38;5;124m'\u001b[39m\u001b[38;5;124mThis event loop is already running\u001b[39m\u001b[38;5;124m'\u001b[39m)\n\u001b[0;32m    589\u001b[0m     \u001b[38;5;28;01mif\u001b[39;00m events\u001b[38;5;241m.\u001b[39m_get_running_loop() \u001b[38;5;129;01mis\u001b[39;00m \u001b[38;5;129;01mnot\u001b[39;00m \u001b[38;5;28;01mNone\u001b[39;00m:\n\u001b[0;32m    590\u001b[0m         \u001b[38;5;28;01mraise\u001b[39;00m \u001b[38;5;167;01mRuntimeError\u001b[39;00m(\n\u001b[0;32m    591\u001b[0m             \u001b[38;5;124m'\u001b[39m\u001b[38;5;124mCannot run the event loop while another loop is running\u001b[39m\u001b[38;5;124m'\u001b[39m)\n",
      "\u001b[1;31mRuntimeError\u001b[0m: This event loop is already running"
     ]
    }
   ],
   "source": [
    "import asyncio\n",
    "async def execute(x):\n",
    "    print('Number:', x)\n",
    "coroutine = execute(1)\n",
    "print('Coroutine:', coroutine)\n",
    "print('After calling execute')\n",
    "loop = asyncio.get_event_loop()\n",
    "loop.run_until_complete(coroutine)\n",
    "print('After calling loop')"
   ]
  },
  {
   "cell_type": "code",
   "execution_count": 8,
   "metadata": {},
   "outputs": [
    {
     "name": "stdout",
     "output_type": "stream",
     "text": [
      "Coroutine: <coroutine object execute at 0x000002590F062740>\n",
      "After calling execute\n",
      "Task: <Task pending name='Task-4' coro=<execute() running at C:\\Users\\59427\\AppData\\Local\\Temp\\ipykernel_10056\\1857480926.py:3>>\n"
     ]
    },
    {
     "ename": "RuntimeError",
     "evalue": "This event loop is already running",
     "output_type": "error",
     "traceback": [
      "\u001b[1;31m---------------------------------------------------------------------------\u001b[0m",
      "\u001b[1;31mRuntimeError\u001b[0m                              Traceback (most recent call last)",
      "Cell \u001b[1;32mIn[8], line 20\u001b[0m\n\u001b[0;32m     16\u001b[0m task \u001b[38;5;241m=\u001b[39m loop\u001b[38;5;241m.\u001b[39mcreate_task(coroutine)\n\u001b[0;32m     18\u001b[0m \u001b[38;5;28mprint\u001b[39m(\u001b[38;5;124m'\u001b[39m\u001b[38;5;124mTask:\u001b[39m\u001b[38;5;124m'\u001b[39m, task)\n\u001b[1;32m---> 20\u001b[0m loop\u001b[38;5;241m.\u001b[39mrun_until_complete(task)\n\u001b[0;32m     22\u001b[0m \u001b[38;5;28mprint\u001b[39m(\u001b[38;5;124m'\u001b[39m\u001b[38;5;124mTask:\u001b[39m\u001b[38;5;124m'\u001b[39m, task)\n\u001b[0;32m     24\u001b[0m \u001b[38;5;28mprint\u001b[39m(\u001b[38;5;124m'\u001b[39m\u001b[38;5;124mAfter calling loop\u001b[39m\u001b[38;5;124m'\u001b[39m)\n",
      "File \u001b[1;32md:\\anaconda3\\Lib\\asyncio\\base_events.py:629\u001b[0m, in \u001b[0;36mBaseEventLoop.run_until_complete\u001b[1;34m(self, future)\u001b[0m\n\u001b[0;32m    618\u001b[0m \u001b[38;5;250m\u001b[39m\u001b[38;5;124;03m\"\"\"Run until the Future is done.\u001b[39;00m\n\u001b[0;32m    619\u001b[0m \n\u001b[0;32m    620\u001b[0m \u001b[38;5;124;03mIf the argument is a coroutine, it is wrapped in a Task.\u001b[39;00m\n\u001b[1;32m   (...)\u001b[0m\n\u001b[0;32m    626\u001b[0m \u001b[38;5;124;03mReturn the Future's result, or raise its exception.\u001b[39;00m\n\u001b[0;32m    627\u001b[0m \u001b[38;5;124;03m\"\"\"\u001b[39;00m\n\u001b[0;32m    628\u001b[0m \u001b[38;5;28mself\u001b[39m\u001b[38;5;241m.\u001b[39m_check_closed()\n\u001b[1;32m--> 629\u001b[0m \u001b[38;5;28mself\u001b[39m\u001b[38;5;241m.\u001b[39m_check_running()\n\u001b[0;32m    631\u001b[0m new_task \u001b[38;5;241m=\u001b[39m \u001b[38;5;129;01mnot\u001b[39;00m futures\u001b[38;5;241m.\u001b[39misfuture(future)\n\u001b[0;32m    632\u001b[0m future \u001b[38;5;241m=\u001b[39m tasks\u001b[38;5;241m.\u001b[39mensure_future(future, loop\u001b[38;5;241m=\u001b[39m\u001b[38;5;28mself\u001b[39m)\n",
      "File \u001b[1;32md:\\anaconda3\\Lib\\asyncio\\base_events.py:588\u001b[0m, in \u001b[0;36mBaseEventLoop._check_running\u001b[1;34m(self)\u001b[0m\n\u001b[0;32m    586\u001b[0m \u001b[38;5;28;01mdef\u001b[39;00m \u001b[38;5;21m_check_running\u001b[39m(\u001b[38;5;28mself\u001b[39m):\n\u001b[0;32m    587\u001b[0m     \u001b[38;5;28;01mif\u001b[39;00m \u001b[38;5;28mself\u001b[39m\u001b[38;5;241m.\u001b[39mis_running():\n\u001b[1;32m--> 588\u001b[0m         \u001b[38;5;28;01mraise\u001b[39;00m \u001b[38;5;167;01mRuntimeError\u001b[39;00m(\u001b[38;5;124m'\u001b[39m\u001b[38;5;124mThis event loop is already running\u001b[39m\u001b[38;5;124m'\u001b[39m)\n\u001b[0;32m    589\u001b[0m     \u001b[38;5;28;01mif\u001b[39;00m events\u001b[38;5;241m.\u001b[39m_get_running_loop() \u001b[38;5;129;01mis\u001b[39;00m \u001b[38;5;129;01mnot\u001b[39;00m \u001b[38;5;28;01mNone\u001b[39;00m:\n\u001b[0;32m    590\u001b[0m         \u001b[38;5;28;01mraise\u001b[39;00m \u001b[38;5;167;01mRuntimeError\u001b[39;00m(\n\u001b[0;32m    591\u001b[0m             \u001b[38;5;124m'\u001b[39m\u001b[38;5;124mCannot run the event loop while another loop is running\u001b[39m\u001b[38;5;124m'\u001b[39m)\n",
      "\u001b[1;31mRuntimeError\u001b[0m: This event loop is already running"
     ]
    },
    {
     "name": "stdout",
     "output_type": "stream",
     "text": [
      "Number: 1\n"
     ]
    }
   ],
   "source": [
    "import asyncio\n",
    "\n",
    "async def execute(x):\n",
    "\n",
    "    print('Number:', x)\n",
    "    return x\n",
    "\n",
    "coroutine = execute(1)\n",
    "\n",
    "print('Coroutine:', coroutine)\n",
    "\n",
    "print('After calling execute')\n",
    "\n",
    "loop = asyncio.get_event_loop()\n",
    "\n",
    "task = loop.create_task(coroutine)\n",
    "\n",
    "print('Task:', task)\n",
    "\n",
    "loop.run_until_complete(task)\n",
    "\n",
    "print('Task:', task)\n",
    "\n",
    "print('After calling loop')\n"
   ]
  },
  {
   "cell_type": "code",
   "execution_count": 9,
   "metadata": {},
   "outputs": [
    {
     "name": "stdout",
     "output_type": "stream",
     "text": [
      "Coroutine: <coroutine object execute at 0x000002590F165B10>\n",
      "After calling execute\n",
      "Task: <Task pending name='Task-5' coro=<execute() running at C:\\Users\\59427\\AppData\\Local\\Temp\\ipykernel_10056\\352017843.py:3>>\n"
     ]
    },
    {
     "ename": "RuntimeError",
     "evalue": "This event loop is already running",
     "output_type": "error",
     "traceback": [
      "\u001b[1;31m---------------------------------------------------------------------------\u001b[0m",
      "\u001b[1;31mRuntimeError\u001b[0m                              Traceback (most recent call last)",
      "Cell \u001b[1;32mIn[9], line 20\u001b[0m\n\u001b[0;32m     16\u001b[0m \u001b[38;5;28mprint\u001b[39m(\u001b[38;5;124m'\u001b[39m\u001b[38;5;124mTask:\u001b[39m\u001b[38;5;124m'\u001b[39m, task)\n\u001b[0;32m     18\u001b[0m loop \u001b[38;5;241m=\u001b[39m asyncio\u001b[38;5;241m.\u001b[39mget_event_loop()\n\u001b[1;32m---> 20\u001b[0m loop\u001b[38;5;241m.\u001b[39mrun_until_complete(task)\n\u001b[0;32m     22\u001b[0m \u001b[38;5;28mprint\u001b[39m(\u001b[38;5;124m'\u001b[39m\u001b[38;5;124mTask:\u001b[39m\u001b[38;5;124m'\u001b[39m, task)\n\u001b[0;32m     24\u001b[0m \u001b[38;5;28mprint\u001b[39m(\u001b[38;5;124m'\u001b[39m\u001b[38;5;124mAfter calling loop\u001b[39m\u001b[38;5;124m'\u001b[39m)\n",
      "File \u001b[1;32md:\\anaconda3\\Lib\\asyncio\\base_events.py:629\u001b[0m, in \u001b[0;36mBaseEventLoop.run_until_complete\u001b[1;34m(self, future)\u001b[0m\n\u001b[0;32m    618\u001b[0m \u001b[38;5;250m\u001b[39m\u001b[38;5;124;03m\"\"\"Run until the Future is done.\u001b[39;00m\n\u001b[0;32m    619\u001b[0m \n\u001b[0;32m    620\u001b[0m \u001b[38;5;124;03mIf the argument is a coroutine, it is wrapped in a Task.\u001b[39;00m\n\u001b[1;32m   (...)\u001b[0m\n\u001b[0;32m    626\u001b[0m \u001b[38;5;124;03mReturn the Future's result, or raise its exception.\u001b[39;00m\n\u001b[0;32m    627\u001b[0m \u001b[38;5;124;03m\"\"\"\u001b[39;00m\n\u001b[0;32m    628\u001b[0m \u001b[38;5;28mself\u001b[39m\u001b[38;5;241m.\u001b[39m_check_closed()\n\u001b[1;32m--> 629\u001b[0m \u001b[38;5;28mself\u001b[39m\u001b[38;5;241m.\u001b[39m_check_running()\n\u001b[0;32m    631\u001b[0m new_task \u001b[38;5;241m=\u001b[39m \u001b[38;5;129;01mnot\u001b[39;00m futures\u001b[38;5;241m.\u001b[39misfuture(future)\n\u001b[0;32m    632\u001b[0m future \u001b[38;5;241m=\u001b[39m tasks\u001b[38;5;241m.\u001b[39mensure_future(future, loop\u001b[38;5;241m=\u001b[39m\u001b[38;5;28mself\u001b[39m)\n",
      "File \u001b[1;32md:\\anaconda3\\Lib\\asyncio\\base_events.py:588\u001b[0m, in \u001b[0;36mBaseEventLoop._check_running\u001b[1;34m(self)\u001b[0m\n\u001b[0;32m    586\u001b[0m \u001b[38;5;28;01mdef\u001b[39;00m \u001b[38;5;21m_check_running\u001b[39m(\u001b[38;5;28mself\u001b[39m):\n\u001b[0;32m    587\u001b[0m     \u001b[38;5;28;01mif\u001b[39;00m \u001b[38;5;28mself\u001b[39m\u001b[38;5;241m.\u001b[39mis_running():\n\u001b[1;32m--> 588\u001b[0m         \u001b[38;5;28;01mraise\u001b[39;00m \u001b[38;5;167;01mRuntimeError\u001b[39;00m(\u001b[38;5;124m'\u001b[39m\u001b[38;5;124mThis event loop is already running\u001b[39m\u001b[38;5;124m'\u001b[39m)\n\u001b[0;32m    589\u001b[0m     \u001b[38;5;28;01mif\u001b[39;00m events\u001b[38;5;241m.\u001b[39m_get_running_loop() \u001b[38;5;129;01mis\u001b[39;00m \u001b[38;5;129;01mnot\u001b[39;00m \u001b[38;5;28;01mNone\u001b[39;00m:\n\u001b[0;32m    590\u001b[0m         \u001b[38;5;28;01mraise\u001b[39;00m \u001b[38;5;167;01mRuntimeError\u001b[39;00m(\n\u001b[0;32m    591\u001b[0m             \u001b[38;5;124m'\u001b[39m\u001b[38;5;124mCannot run the event loop while another loop is running\u001b[39m\u001b[38;5;124m'\u001b[39m)\n",
      "\u001b[1;31mRuntimeError\u001b[0m: This event loop is already running"
     ]
    },
    {
     "name": "stdout",
     "output_type": "stream",
     "text": [
      "Number: 1\n"
     ]
    }
   ],
   "source": [
    "import asyncio\n",
    "\n",
    "async def execute(x):\n",
    "    print('Number:', x)\n",
    "\n",
    "    return x\n",
    "\n",
    "coroutine = execute(1)\n",
    "\n",
    "print('Coroutine:', coroutine)\n",
    "\n",
    "print('After calling execute')\n",
    "\n",
    "task = asyncio.ensure_future(coroutine)\n",
    "\n",
    "print('Task:', task)\n",
    "\n",
    "loop = asyncio.get_event_loop()\n",
    "\n",
    "loop.run_until_complete(task)\n",
    "\n",
    "print('Task:', task)\n",
    "\n",
    "print('After calling loop')\n"
   ]
  },
  {
   "cell_type": "code",
   "execution_count": 11,
   "metadata": {},
   "outputs": [
    {
     "name": "stdout",
     "output_type": "stream",
     "text": [
      "Tasks: [<Task pending name='Task-1' coro=<request() running at C:\\Users\\59427\\AppData\\Local\\Temp\\ipykernel_10056\\2526168990.py:6>>, <Task pending name='Task-2' coro=<request() running at C:\\Users\\59427\\AppData\\Local\\Temp\\ipykernel_10056\\2526168990.py:6>>, <Task pending name='Task-3' coro=<request() running at C:\\Users\\59427\\AppData\\Local\\Temp\\ipykernel_10056\\2526168990.py:6>>, <Task pending name='Task-4' coro=<request() running at C:\\Users\\59427\\AppData\\Local\\Temp\\ipykernel_10056\\2526168990.py:6>>, <Task pending name='Task-5' coro=<request() running at C:\\Users\\59427\\AppData\\Local\\Temp\\ipykernel_10056\\2526168990.py:6>>]\n",
      "Task Result: <Response [200]>\n",
      "Task Result: <Response [200]>\n",
      "Task Result: <Response [200]>\n",
      "Task Result: <Response [200]>\n",
      "Task Result: <Response [200]>\n"
     ]
    }
   ],
   "source": [
    "import asyncio\n",
    "import requests\n",
    "import nest_asyncio\n",
    "nest_asyncio.apply()\n",
    "async def request():\n",
    "    url = 'https://www.baidu.com'\n",
    "    status = requests.get(url)\n",
    "    return status\n",
    "tasks = [asyncio.ensure_future(request()) for _ in range(5)]\n",
    "print('Tasks:', tasks)\n",
    "loop = asyncio.get_event_loop()\n",
    "loop.run_until_complete(asyncio.wait(tasks))\n",
    "for task in tasks:\n",
    "    print('Task Result:', task.result())\n"
   ]
  },
  {
   "cell_type": "code",
   "execution_count": 12,
   "metadata": {},
   "outputs": [
    {
     "name": "stdout",
     "output_type": "stream",
     "text": [
      "Waiting for https://ssr1.scrape.center/\n",
      "Get response from https://ssr1.scrape.center/ response <Response [200]>\n",
      "Waiting for https://ssr1.scrape.center/\n",
      "Get response from https://ssr1.scrape.center/ response <Response [200]>\n",
      "Waiting for https://ssr1.scrape.center/\n",
      "Get response from https://ssr1.scrape.center/ response <Response [200]>\n",
      "Waiting for https://ssr1.scrape.center/\n",
      "Get response from https://ssr1.scrape.center/ response <Response [200]>\n",
      "Waiting for https://ssr1.scrape.center/\n",
      "Get response from https://ssr1.scrape.center/ response <Response [200]>\n",
      "Waiting for https://ssr1.scrape.center/\n",
      "Get response from https://ssr1.scrape.center/ response <Response [200]>\n",
      "Waiting for https://ssr1.scrape.center/\n",
      "Get response from https://ssr1.scrape.center/ response <Response [200]>\n",
      "Waiting for https://ssr1.scrape.center/\n",
      "Get response from https://ssr1.scrape.center/ response <Response [200]>\n",
      "Waiting for https://ssr1.scrape.center/\n",
      "Get response from https://ssr1.scrape.center/ response <Response [200]>\n",
      "Waiting for https://ssr1.scrape.center/\n",
      "Get response from https://ssr1.scrape.center/ response <Response [200]>\n",
      "Cost time: 2.4903910160064697\n"
     ]
    }
   ],
   "source": [
    "import asyncio\n",
    "import requests\n",
    "import time\n",
    "import nest_asyncio\n",
    "nest_asyncio.apply()\n",
    "start = time.time()\n",
    "async def request():\n",
    "    url = 'https://ssr1.scrape.center/'\n",
    "    print('Waiting for', url)\n",
    "    response = requests.get(url)\n",
    "    print('Get response from', url, 'response',response)\n",
    "\n",
    "tasks = [asyncio.ensure_future(request()) for _ in range(10)]\n",
    "loop = asyncio.get_event_loop()\n",
    "loop.run_until_complete(asyncio.wait(tasks))\n",
    "end = time.time()\n",
    "\n",
    "print('Cost time:', end - start)\n"
   ]
  },
  {
   "cell_type": "code",
   "execution_count": 13,
   "metadata": {},
   "outputs": [],
   "source": [
    "async def request():\n",
    "    url = 'https://ssr1.scrape.center/'\n",
    "    print('Waiting for', url)\n",
    "    response = await requests.get(url)\n",
    "    print('Get response from', url, 'response', response)"
   ]
  },
  {
   "cell_type": "code",
   "execution_count": 14,
   "metadata": {},
   "outputs": [
    {
     "name": "stdout",
     "output_type": "stream",
     "text": [
      "Waiting for https://ssr1.scrape.center/\n",
      "Waiting for https://ssr1.scrape.center/\n",
      "Waiting for https://ssr1.scrape.center/\n",
      "Waiting for https://ssr1.scrape.center/\n",
      "Waiting for https://ssr1.scrape.center/\n",
      "Waiting for https://ssr1.scrape.center/\n",
      "Waiting for https://ssr1.scrape.center/\n",
      "Waiting for https://ssr1.scrape.center/\n",
      "Waiting for https://ssr1.scrape.center/\n",
      "Waiting for https://ssr1.scrape.center/\n",
      "Get response from https://ssr1.scrape.center/ response <ClientResponse(https://ssr1.scrape.center/) [200 OK]>\n",
      "<CIMultiDictProxy('Date': 'Wed, 17 Jan 2024 13:07:30 GMT', 'Content-Type': 'text/html; charset=utf-8', 'X-Frame-Options': 'DENY', 'X-Content-Type-Options': 'nosniff', 'Expires': 'Wed, 17 Jan 2024 13:17:30 GMT', 'Strict-Transport-Security': 'max-age=15724800; includeSubDomains', 'Server': 'Lego Server', 'X-Cache-Lookup': 'Cache Miss', 'Cache-Control': 'max-age=600', 'Age': '0', 'Content-Length': '41667', 'X-NWS-LOG-UUID': '14750599275251968693', 'Connection': 'keep-alive', 'X-Cache-Lookup': 'Cache Miss')>\n",
      "\n",
      "Get response from https://ssr1.scrape.center/ response <ClientResponse(https://ssr1.scrape.center/) [200 OK]>\n",
      "<CIMultiDictProxy('Date': 'Wed, 17 Jan 2024 13:07:30 GMT', 'Content-Type': 'text/html; charset=utf-8', 'X-Frame-Options': 'DENY', 'X-Content-Type-Options': 'nosniff', 'Expires': 'Wed, 17 Jan 2024 13:17:30 GMT', 'Strict-Transport-Security': 'max-age=15724800; includeSubDomains', 'Server': 'E0MID', 'X-Cache-Lookup': 'Cache Miss', 'X-Cache-Lookup': 'Cache Miss', 'X-Cache-Lookup': 'Cache Miss', 'Cache-Control': 'max-age=600', 'Age': '0', 'Content-Length': '41667', 'X-NWS-LOG-UUID': '3675772087879141376', 'Connection': 'keep-alive', 'X-Cache-Lookup': 'Cache Miss')>\n",
      "\n",
      "Get response from https://ssr1.scrape.center/ response <ClientResponse(https://ssr1.scrape.center/) [200 OK]>\n",
      "<CIMultiDictProxy('Date': 'Wed, 17 Jan 2024 13:07:30 GMT', 'Content-Type': 'text/html; charset=utf-8', 'X-Frame-Options': 'DENY', 'X-Content-Type-Options': 'nosniff', 'Expires': 'Wed, 17 Jan 2024 13:17:30 GMT', 'Strict-Transport-Security': 'max-age=15724800; includeSubDomains', 'Server': 'E0MID', 'X-Cache-Lookup': 'Cache Miss', 'X-Cache-Lookup': 'Cache Miss', 'X-Cache-Lookup': 'Cache Miss', 'Cache-Control': 'max-age=600', 'Age': '0', 'Content-Length': '41667', 'X-NWS-LOG-UUID': '5611379316890520847', 'Connection': 'keep-alive', 'X-Cache-Lookup': 'Cache Miss')>\n",
      "\n",
      "Get response from https://ssr1.scrape.center/ response <ClientResponse(https://ssr1.scrape.center/) [200 OK]>\n",
      "<CIMultiDictProxy('Date': 'Wed, 17 Jan 2024 13:07:30 GMT', 'Content-Type': 'text/html; charset=utf-8', 'X-Frame-Options': 'DENY', 'X-Content-Type-Options': 'nosniff', 'Expires': 'Wed, 17 Jan 2024 13:17:30 GMT', 'Strict-Transport-Security': 'max-age=15724800; includeSubDomains', 'Server': 'E0MID', 'X-Cache-Lookup': 'Cache Miss', 'X-Cache-Lookup': 'Cache Miss', 'X-Cache-Lookup': 'Cache Miss', 'Cache-Control': 'max-age=600', 'Age': '0', 'Content-Length': '41667', 'X-NWS-LOG-UUID': '322248969401997217', 'Connection': 'keep-alive', 'X-Cache-Lookup': 'Cache Miss')>\n",
      "\n",
      "Get response from https://ssr1.scrape.center/ response <ClientResponse(https://ssr1.scrape.center/) [200 OK]>\n",
      "<CIMultiDictProxy('Date': 'Wed, 17 Jan 2024 13:07:30 GMT', 'Content-Type': 'text/html; charset=utf-8', 'X-Frame-Options': 'DENY', 'X-Content-Type-Options': 'nosniff', 'Expires': 'Wed, 17 Jan 2024 13:17:30 GMT', 'Strict-Transport-Security': 'max-age=15724800; includeSubDomains', 'Server': 'E0MID', 'X-Cache-Lookup': 'Cache Miss', 'X-Cache-Lookup': 'Cache Miss', 'X-Cache-Lookup': 'Cache Miss', 'Cache-Control': 'max-age=600', 'Age': '0', 'Content-Length': '41667', 'X-NWS-LOG-UUID': '6890040038486150258', 'Connection': 'keep-alive', 'X-Cache-Lookup': 'Cache Miss')>\n",
      "\n",
      "Get response from https://ssr1.scrape.center/ response <ClientResponse(https://ssr1.scrape.center/) [200 OK]>\n",
      "<CIMultiDictProxy('Date': 'Wed, 17 Jan 2024 13:07:30 GMT', 'Content-Type': 'text/html; charset=utf-8', 'X-Frame-Options': 'DENY', 'X-Content-Type-Options': 'nosniff', 'Expires': 'Wed, 17 Jan 2024 13:17:30 GMT', 'Strict-Transport-Security': 'max-age=15724800; includeSubDomains', 'Server': 'E0MID', 'X-Cache-Lookup': 'Cache Miss', 'X-Cache-Lookup': 'Cache Miss', 'X-Cache-Lookup': 'Cache Miss', 'Cache-Control': 'max-age=600', 'Age': '0', 'Content-Length': '41667', 'X-NWS-LOG-UUID': '5533044070899369716', 'Connection': 'keep-alive', 'X-Cache-Lookup': 'Cache Miss')>\n",
      "\n",
      "Get response from https://ssr1.scrape.center/ response <ClientResponse(https://ssr1.scrape.center/) [200 OK]>\n",
      "<CIMultiDictProxy('Date': 'Wed, 17 Jan 2024 13:07:30 GMT', 'Content-Type': 'text/html; charset=utf-8', 'X-Frame-Options': 'DENY', 'X-Content-Type-Options': 'nosniff', 'Expires': 'Wed, 17 Jan 2024 13:17:30 GMT', 'Strict-Transport-Security': 'max-age=15724800; includeSubDomains', 'Server': 'E0MID', 'X-Cache-Lookup': 'Cache Miss', 'X-Cache-Lookup': 'Cache Miss', 'X-Cache-Lookup': 'Cache Miss', 'Cache-Control': 'max-age=600', 'Age': '0', 'Content-Length': '41667', 'X-NWS-LOG-UUID': '6667744385077331379', 'Connection': 'keep-alive', 'X-Cache-Lookup': 'Cache Miss')>\n",
      "\n",
      "Get response from https://ssr1.scrape.center/ response <ClientResponse(https://ssr1.scrape.center/) [200 OK]>\n",
      "<CIMultiDictProxy('Date': 'Wed, 17 Jan 2024 13:07:31 GMT', 'Content-Type': 'text/html; charset=utf-8', 'X-Frame-Options': 'DENY', 'X-Content-Type-Options': 'nosniff', 'Expires': 'Wed, 17 Jan 2024 13:17:30 GMT', 'Strict-Transport-Security': 'max-age=15724800; includeSubDomains', 'Server': 'E0MID', 'X-Cache-Lookup': 'Cache Miss', 'X-Cache-Lookup': 'Cache Miss', 'X-Cache-Lookup': 'Cache Miss', 'Cache-Control': 'max-age=600', 'Age': '0', 'Content-Length': '41667', 'X-NWS-LOG-UUID': '16235722828192007167', 'Connection': 'keep-alive', 'X-Cache-Lookup': 'Cache Miss')>\n",
      "\n",
      "Get response from https://ssr1.scrape.center/ response <ClientResponse(https://ssr1.scrape.center/) [200 OK]>\n",
      "<CIMultiDictProxy('Date': 'Wed, 17 Jan 2024 13:07:31 GMT', 'Content-Type': 'text/html; charset=utf-8', 'X-Frame-Options': 'DENY', 'X-Content-Type-Options': 'nosniff', 'Expires': 'Wed, 17 Jan 2024 13:17:30 GMT', 'Strict-Transport-Security': 'max-age=15724800; includeSubDomains', 'Server': 'E0MID', 'X-Cache-Lookup': 'Cache Miss', 'X-Cache-Lookup': 'Cache Miss', 'X-Cache-Lookup': 'Cache Miss', 'Cache-Control': 'max-age=600', 'Age': '0', 'Content-Length': '41667', 'X-NWS-LOG-UUID': '2443308274813889345', 'Connection': 'keep-alive', 'X-Cache-Lookup': 'Cache Miss')>\n",
      "\n",
      "Get response from https://ssr1.scrape.center/ response <ClientResponse(https://ssr1.scrape.center/) [200 OK]>\n",
      "<CIMultiDictProxy('Date': 'Wed, 17 Jan 2024 13:07:31 GMT', 'Content-Type': 'text/html; charset=utf-8', 'X-Frame-Options': 'DENY', 'X-Content-Type-Options': 'nosniff', 'Expires': 'Wed, 17 Jan 2024 13:17:30 GMT', 'Strict-Transport-Security': 'max-age=15724800; includeSubDomains', 'Server': 'E0MID', 'X-Cache-Lookup': 'Cache Miss', 'X-Cache-Lookup': 'Cache Miss', 'X-Cache-Lookup': 'Cache Miss', 'Cache-Control': 'max-age=600', 'Age': '0', 'Content-Length': '41667', 'X-NWS-LOG-UUID': '2273169710875434684', 'Connection': 'keep-alive', 'X-Cache-Lookup': 'Cache Miss')>\n",
      "\n",
      "Cost time: 4.989750146865845\n"
     ]
    }
   ],
   "source": [
    "import asyncio\n",
    "import aiohttp\n",
    "import time\n",
    "\n",
    "start = time.time()\n",
    "async def get(url):\n",
    "    session = aiohttp.ClientSession()\n",
    "    response = await session.get(url)\n",
    "    await response.text()\n",
    "    await session.close()\n",
    "    return response\n",
    "\n",
    "async def request():\n",
    "    url = 'https://ssr1.scrape.center/'\n",
    "    print('Waiting for', url)\n",
    "    response = await get(url)\n",
    "    print('Get response from', url, 'response', response)\n",
    "\n",
    "tasks = [asyncio.ensure_future(request()) for _ in range(10)]\n",
    "loop = asyncio.get_event_loop()\n",
    "loop.run_until_complete(asyncio.wait(tasks))\n",
    "end = time.time()\n",
    "print('Cost time:', end - start)\n"
   ]
  },
  {
   "cell_type": "code",
   "execution_count": 15,
   "metadata": {},
   "outputs": [
    {
     "name": "stdout",
     "output_type": "stream",
     "text": [
      "Number: 1 Cost time: 0.06867814064025879\n",
      "Number: 3 Cost time: 0.051001548767089844\n",
      "Number: 5 Cost time: 0.04599785804748535\n",
      "Number: 10 Cost time: 0.11510801315307617\n",
      "Number: 15 Cost time: 0.07149100303649902\n",
      "Number: 30 Cost time: 0.20654010772705078\n",
      "Number: 50 Cost time: 0.19583559036254883\n",
      "Number: 75 Cost time: 0.39614081382751465\n",
      "Number: 100 Cost time: 0.6589300632476807\n"
     ]
    },
    {
     "name": "stderr",
     "output_type": "stream",
     "text": [
      "d:\\anaconda3\\Lib\\site-packages\\aiohttp\\cookiejar.py:242: RuntimeWarning: coroutine 'execute' was never awaited\n",
      "  with contextlib.suppress(ValueError):\n",
      "RuntimeWarning: Enable tracemalloc to get the object allocation traceback\n"
     ]
    },
    {
     "name": "stdout",
     "output_type": "stream",
     "text": [
      "Number: 200 Cost time: 1.532801866531372\n",
      "Number: 500 Cost time: 7.515810966491699\n"
     ]
    }
   ],
   "source": [
    "import asyncio\n",
    "import aiohttp\n",
    "import time\n",
    "def test(number):\n",
    "    start = time.time()\n",
    "    async def get(url):\n",
    "        session = aiohttp.ClientSession()\n",
    "        response = await session.get(url)\n",
    "        await response.text()\n",
    "        await session.close()\n",
    "        return response\n",
    "\n",
    "    async def request():\n",
    "        url = 'https://www.baidu.com/'\n",
    "        await get(url)\n",
    "\n",
    "    tasks = [asyncio.ensure_future(request()) for _ in range(number)]\n",
    "    loop = asyncio.get_event_loop()\n",
    "    loop.run_until_complete(asyncio.wait(tasks))\n",
    "    end = time.time()\n",
    "    print('Number:', number, 'Cost time:', end - start)\n",
    "\n",
    "for number in [1, 3, 5, 10, 15, 30, 50, 75, 100, 200, 500]:\n",
    "    test(number)\n"
   ]
  },
  {
   "cell_type": "code",
   "execution_count": null,
   "metadata": {},
   "outputs": [],
   "source": []
  }
 ],
 "metadata": {
  "kernelspec": {
   "display_name": "base",
   "language": "python",
   "name": "python3"
  },
  "language_info": {
   "codemirror_mode": {
    "name": "ipython",
    "version": 3
   },
   "file_extension": ".py",
   "mimetype": "text/x-python",
   "name": "python",
   "nbconvert_exporter": "python",
   "pygments_lexer": "ipython3",
   "version": "3.11.3"
  }
 },
 "nbformat": 4,
 "nbformat_minor": 2
}
