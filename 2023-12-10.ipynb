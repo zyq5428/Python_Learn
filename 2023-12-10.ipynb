{
 "cells": [
  {
   "cell_type": "code",
   "execution_count": 1,
   "metadata": {},
   "outputs": [],
   "source": [
    "# 1、让用户输入表达式，然后转换为程序能识别的正则表达式\n",
    "\n",
    "# 2、查找当前文件夹下的所有txt文件\n",
    "\n",
    "# 3、依次打开txt文件，然后用正则表达式匹配，并保存匹配内容\n",
    "\n",
    "# 4、对匹配的内容进行处理，如打印出来"
   ]
  },
  {
   "cell_type": "code",
   "execution_count": 2,
   "metadata": {},
   "outputs": [],
   "source": [
    "# 导入所需要的模块\n",
    "\n",
    "import os\n",
    "import re\n",
    "\n",
    "# 1、让用户输入表达式，然后转换为程序能识别的正则表达式\n",
    "\n",
    "user_exp = input(\"Please input your expression：\")\n",
    "\n",
    "# 2、查找当前文件夹下的所有txt文件\n",
    "\n",
    "txt_path = 'f:\\\\Python_Learn\\\\txt_file'\n",
    "file_regex = re.compile(r'.*\\.txt')\n",
    "\n",
    "txt_name = []\n",
    "\n",
    "os.chdir(txt_path)\n",
    "\n",
    "for name in os.listdir(txt_path):\n",
    "    if file_regex.search(name):\n",
    "        txt_name.append(name)\n",
    "\n",
    "print(txt_name)\n",
    "\n",
    "# 3、依次打开txt文件，然后用正则表达式匹配，并保存匹配内容\n",
    "\n",
    "# input_regex = '\\d{3}\\.\\d{3}\\.\\d{4}'\n",
    "input_regex = user_exp\n",
    "user_regex = re.compile(input_regex)\n",
    "\n",
    "matched_content = []\n",
    "\n",
    "for file_name in txt_name:\n",
    "    try:\n",
    "        with open(file_name, 'r') as open_file:\n",
    "            single_matched_content = []\n",
    "            single_matched_content.append(file_name)\n",
    "            file_content = open_file.read()\n",
    "            for matched in user_regex.findall(file_content):\n",
    "                single_matched_content.append(matched)\n",
    "            if (len(single_matched_content) >= 2):\n",
    "                matched_content.append(single_matched_content)\n",
    "    except FileNotFoundError as e:\n",
    "        print('指定的文件无法打开--{}'.format(file_name))\n",
    "    except IOError as e:\n",
    "        print('读写文件出现错误')\n",
    "    finally:\n",
    "        print('程序执行结束')\n",
    "\n",
    "# 4、对匹配的内容进行处理，如打印出来\n",
    "\n",
    "print(matched_content)"
   ]
  },
  {
   "cell_type": "code",
   "execution_count": 3,
   "metadata": {},
   "outputs": [
    {
     "data": {
      "text/plain": [
       "'nihao'"
      ]
     },
     "execution_count": 3,
     "metadata": {},
     "output_type": "execute_result"
    }
   ],
   "source": [
    "user_exp"
   ]
  },
  {
   "cell_type": "code",
   "execution_count": 1,
   "metadata": {},
   "outputs": [
    {
     "name": "stdout",
     "output_type": "stream",
     "text": [
      "['art.txt', 'Contact Us.txt', 'myProgramLog.txt']\n"
     ]
    }
   ],
   "source": []
  },
  {
   "cell_type": "code",
   "execution_count": 8,
   "metadata": {},
   "outputs": [
    {
     "name": "stdout",
     "output_type": "stream",
     "text": [
      "程序执行结束\n",
      "程序执行结束\n",
      "程序执行结束\n",
      "[['art.txt', '888.666.9999'], ['Contact Us.txt', '800.420.7240', '415.863.9900', '415.863.9950']]\n"
     ]
    }
   ],
   "source": [
    "\n"
   ]
  },
  {
   "cell_type": "code",
   "execution_count": 3,
   "metadata": {},
   "outputs": [
    {
     "name": "stdout",
     "output_type": "stream",
     "text": [
      "<re.Match object; span=(0, 0), match=''>\n"
     ]
    }
   ],
   "source": [
    "\n"
   ]
  },
  {
   "cell_type": "code",
   "execution_count": null,
   "metadata": {},
   "outputs": [],
   "source": []
  }
 ],
 "metadata": {
  "kernelspec": {
   "display_name": "base",
   "language": "python",
   "name": "python3"
  },
  "language_info": {
   "codemirror_mode": {
    "name": "ipython",
    "version": 3
   },
   "file_extension": ".py",
   "mimetype": "text/x-python",
   "name": "python",
   "nbconvert_exporter": "python",
   "pygments_lexer": "ipython3",
   "version": "3.11.3"
  }
 },
 "nbformat": 4,
 "nbformat_minor": 2
}
