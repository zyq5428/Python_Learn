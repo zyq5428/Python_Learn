{
 "cells": [
  {
   "cell_type": "code",
   "execution_count": 4,
   "metadata": {},
   "outputs": [
    {
     "name": "stderr",
     "output_type": "stream",
     "text": [
      " 2023-12-12 14:09:36,110 - DEBUG- Start of program\n"
     ]
    }
   ],
   "source": [
    "import logging\n",
    "logging.basicConfig(level=logging.DEBUG, format=' %(asctime)s - %(levelname)s- %(message)s')\n",
    "logging.debug('Start of program')"
   ]
  },
  {
   "cell_type": "code",
   "execution_count": 5,
   "metadata": {},
   "outputs": [
    {
     "name": "stderr",
     "output_type": "stream",
     "text": [
      " 2023-12-12 14:14:31,916 - DEBUG- Start of factorial(5%)\n",
      " 2023-12-12 14:14:31,917 - DEBUG- i is 1, total is 1\n",
      " 2023-12-12 14:14:31,918 - DEBUG- i is 2, total is 2\n",
      " 2023-12-12 14:14:31,919 - DEBUG- i is 3, total is 6\n",
      " 2023-12-12 14:14:31,920 - DEBUG- i is 4, total is 24\n",
      " 2023-12-12 14:14:31,920 - DEBUG- i is 5, total is 120\n",
      " 2023-12-12 14:14:31,921 - DEBUG- End of factorial(5%)\n",
      " 2023-12-12 14:14:31,923 - DEBUG- End of program\n"
     ]
    },
    {
     "name": "stdout",
     "output_type": "stream",
     "text": [
      "120\n"
     ]
    }
   ],
   "source": [
    "def factorial(n):\n",
    "    logging.debug('Start of factorial(%s%%)' % (n))\n",
    "    tatal = 1\n",
    "    for i in range(1, n + 1):\n",
    "        tatal *= i\n",
    "        logging.debug('i is ' + str(i) + ', total is ' + str(tatal))\n",
    "    logging.debug('End of factorial(%s%%)' % (n))\n",
    "    return tatal\n",
    "print(factorial(5))\n",
    "logging.debug('End of program')"
   ]
  },
  {
   "cell_type": "code",
   "execution_count": 8,
   "metadata": {},
   "outputs": [
    {
     "name": "stderr",
     "output_type": "stream",
     "text": [
      " 2023-12-12 15:20:47,319 - DEBUG- Start of program\n"
     ]
    }
   ],
   "source": [
    "import logging\n",
    "logging.basicConfig(level=logging.DEBUG, format=' %(asctime)s - %(levelname)s- %(message)s')\n",
    "logging.debug('Start of program')"
   ]
  },
  {
   "cell_type": "code",
   "execution_count": 9,
   "metadata": {},
   "outputs": [
    {
     "name": "stderr",
     "output_type": "stream",
     "text": [
      " 2023-12-12 15:31:32,521 - INFO- The logging module is working.\n"
     ]
    }
   ],
   "source": [
    "logging.info('The logging module is working.')"
   ]
  },
  {
   "cell_type": "code",
   "execution_count": 10,
   "metadata": {},
   "outputs": [
    {
     "name": "stderr",
     "output_type": "stream",
     "text": [
      " 2023-12-12 15:32:09,130 - WARNING- An error message is about to be logged.\n"
     ]
    }
   ],
   "source": [
    "logging.warning('An error message is about to be logged.')"
   ]
  },
  {
   "cell_type": "code",
   "execution_count": 11,
   "metadata": {},
   "outputs": [
    {
     "name": "stderr",
     "output_type": "stream",
     "text": [
      " 2023-12-12 15:32:52,872 - ERROR- An erroe has occured.\n"
     ]
    }
   ],
   "source": [
    "logging.error('An erroe has occured.')"
   ]
  },
  {
   "cell_type": "code",
   "execution_count": 12,
   "metadata": {},
   "outputs": [
    {
     "name": "stderr",
     "output_type": "stream",
     "text": [
      " 2023-12-12 15:34:01,241 - CRITICAL- The program is unable to recover!\n"
     ]
    }
   ],
   "source": [
    "logging.critical('The program is unable to recover!')"
   ]
  },
  {
   "cell_type": "code",
   "execution_count": 13,
   "metadata": {},
   "outputs": [
    {
     "name": "stderr",
     "output_type": "stream",
     "text": [
      " 2023-12-12 17:02:36,015 - CRITICAL- Critical error! Critical error!\n"
     ]
    }
   ],
   "source": [
    "logging.basicConfig(level=logging.INFO, format=' %(asctime)s - %(levelname)s- %(message)s')\n",
    "logging.critical('Critical error! Critical error!')"
   ]
  },
  {
   "cell_type": "code",
   "execution_count": 14,
   "metadata": {},
   "outputs": [],
   "source": [
    "logging.disable(logging.CRITICAL)\n",
    "logging.critical('Critical error! Critical error!')\n",
    "logging.error('Error! Error!')"
   ]
  },
  {
   "cell_type": "code",
   "execution_count": 15,
   "metadata": {},
   "outputs": [],
   "source": [
    "logging.basicConfig(filename='F:\\\\python_learn\\\\text_file\\\\myProgramLog.txt', level=logging.DEBUG, format=' %(asctime)s - %(levelname)s- %(message)s')"
   ]
  },
  {
   "cell_type": "code",
   "execution_count": 3,
   "metadata": {},
   "outputs": [
    {
     "name": "stdout",
     "output_type": "stream",
     "text": [
      "Guess the coin toss! Enter heads(1) or tails(0):\n",
      "your Guess is: 0\n",
      "Nope! Guess again!\n",
      "your Guess is: 1\n",
      "You got it!\n"
     ]
    }
   ],
   "source": [
    "import random\n",
    "\n",
    "guess = ''\n",
    "\n",
    "while guess not in ('heads', 'tails'):\n",
    "    print('Guess the coin toss! Enter heads(1) or tails(0):')\n",
    "    guess = input()\n",
    "    print('your Guess is: ' + guess)\n",
    "    toss = str(random.randint(0, 1)) # 0 is tails, 1 is heads\n",
    "    if toss == guess:\n",
    "        print('You got it!')\n",
    "    else:\n",
    "        print('Nope! Guess again!')\n",
    "        guess = input()\n",
    "        print('your Guess is: ' + guess)\n",
    "        if toss == guess:\n",
    "            print('You got it!')\n",
    "        else:\n",
    "            print('Nope. You are really bad at this game.')\n",
    "    guess = 'heads' if guess else 'tails'"
   ]
  },
  {
   "cell_type": "code",
   "execution_count": null,
   "metadata": {},
   "outputs": [],
   "source": []
  }
 ],
 "metadata": {
  "kernelspec": {
   "display_name": "base",
   "language": "python",
   "name": "python3"
  },
  "language_info": {
   "codemirror_mode": {
    "name": "ipython",
    "version": 3
   },
   "file_extension": ".py",
   "mimetype": "text/x-python",
   "name": "python",
   "nbconvert_exporter": "python",
   "pygments_lexer": "ipython3",
   "version": "3.11.3"
  }
 },
 "nbformat": 4,
 "nbformat_minor": 2
}
