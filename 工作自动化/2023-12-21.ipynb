{
 "cells": [
  {
   "cell_type": "code",
   "execution_count": 4,
   "metadata": {},
   "outputs": [],
   "source": [
    "import  PyPDF2,  os"
   ]
  },
  {
   "cell_type": "code",
   "execution_count": 5,
   "metadata": {},
   "outputs": [
    {
     "name": "stdout",
     "output_type": "stream",
     "text": [
      "['combinedminutes.pdf', 'encrypted.pdf', 'encryptedminutes.pdf', 'meetingminutes.pdf', 'meetingminutes2.pdf', 'watermark.pdf']\n"
     ]
    }
   ],
   "source": [
    "# Get all the PDF filenames.\n",
    "pdfFiles = []\n",
    "for filename in os.listdir('.\\\\automate'):\n",
    "    if filename.endswith('.pdf'):\n",
    "        pdfFiles.append(filename)\n",
    "pdfFiles.sort(key=str.lower)\n",
    "pdfWriter = PyPDF2.PdfWriter()\n",
    "print(pdfFiles)\n",
    "os.chdir('.\\\\automate')"
   ]
  },
  {
   "cell_type": "code",
   "execution_count": 6,
   "metadata": {},
   "outputs": [],
   "source": [
    "# Loop through all the PDF files.\n",
    "for filename in pdfFiles:\n",
    "    pdfFileObj = open(filename, 'rb')\n",
    "    pdfReader = PyPDF2.PdfReader(pdfFileObj)\n",
    "    if pdfReader.is_encrypted:\n",
    "        if pdfReader.decrypt('rosebud') == 0:\n",
    "            pdfReader.decrypt('swordfish')\n",
    "\n",
    "    # Loop through all the pages (except the first) and add them.\n",
    "    for pageNum in range(1, len(pdfReader.pages)):\n",
    "        pageObj = pdfReader.pages[pageNum]\n",
    "        pdfWriter.add_page(pageObj)"
   ]
  },
  {
   "cell_type": "code",
   "execution_count": 7,
   "metadata": {},
   "outputs": [],
   "source": [
    "# Save the resulting PDF to a file.\n",
    "pdfOutput = open('allminutes.pdf', 'wb')\n",
    "pdfWriter.write(pdfOutput)\n",
    "pdfOutput.close()"
   ]
  },
  {
   "cell_type": "code",
   "execution_count": null,
   "metadata": {},
   "outputs": [],
   "source": []
  }
 ],
 "metadata": {
  "kernelspec": {
   "display_name": "base",
   "language": "python",
   "name": "python3"
  },
  "language_info": {
   "codemirror_mode": {
    "name": "ipython",
    "version": 3
   },
   "file_extension": ".py",
   "mimetype": "text/x-python",
   "name": "python",
   "nbconvert_exporter": "python",
   "pygments_lexer": "ipython3",
   "version": "3.11.3"
  }
 },
 "nbformat": 4,
 "nbformat_minor": 2
}
