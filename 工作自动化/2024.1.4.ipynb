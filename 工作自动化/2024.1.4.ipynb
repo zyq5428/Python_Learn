{
 "cells": [
  {
   "cell_type": "code",
   "execution_count": 1,
   "metadata": {},
   "outputs": [],
   "source": [
    "class Dog():\n",
    "    def __init__(self, name, age):\n",
    "        self.name = name\n",
    "        self.age = age\n",
    "    def sit(self):\n",
    "        print(self.name.title() + \" is now sitting.\")\n",
    "    def roll_over(self):\n",
    "        print(self.name.title() + \" rolled over!\")"
   ]
  },
  {
   "cell_type": "code",
   "execution_count": 2,
   "metadata": {},
   "outputs": [
    {
     "name": "stdout",
     "output_type": "stream",
     "text": [
      "My dog's name is Willie.\n",
      "My dog is 6 years old.\n"
     ]
    }
   ],
   "source": [
    "#class Dog():  这里的Dog指的的是类\n",
    "my_dog = Dog('willie', 6)  #这里的Dog是根据上面的‘Dog’创建的实例。\n",
    "print(\"My dog's name is \" + my_dog.name.title() + \".\")\n",
    "print(\"My dog is \" + str(my_dog.age) + \" years old.\")"
   ]
  },
  {
   "cell_type": "code",
   "execution_count": 3,
   "metadata": {},
   "outputs": [
    {
     "name": "stdout",
     "output_type": "stream",
     "text": [
      "即将给alternate 1发送消息:Where are you1?\n",
      "即将给alternate 2发送消息:Where are you2?\n",
      "即将给alternate 3发送消息:Where are you3?\n",
      "即将给alternate 4发送消息:Where are you4?\n",
      "即将给alternate 5发送消息:Where are you5?\n",
      "即将给alternate 6发送消息:Where are you6?\n",
      "即将给alternate 7发送消息:Where are you7?\n"
     ]
    }
   ],
   "source": [
    "#！ python3\n",
    "# 即时通信机器人.py - 自动发送消息\n",
    "\n",
    "# 模块引用\n",
    "import time, pyautogui\n",
    "# 基本参数\n",
    "menuFiled = (1450, 1030)\t# 菜单栏，形如'^'的键\n",
    "qqLogoFiled = (1450, 920)\t# QQ在菜单栏的标志，防止未打开\n",
    "searchFiled = (1430, 280)   # QQ搜索栏坐标\n",
    "talkField = (650, 775)      # 聊天框坐标\n",
    "friend = {#qq:内容\n",
    "        'alternate 1':'Where are you1?',\n",
    "        'alternate 2':'Where are you2?',\n",
    "        'alternate 3':'Where are you3?',\n",
    "        'alternate 4':'Where are you4?',\n",
    "        'alternate 5':'Where are you5?',\n",
    "        'alternate 6':'Where are you6?',\n",
    "        'alternate 7':'Where are you7?',\n",
    "}\n",
    "# 点击菜单栏、点击QQ图标\n",
    "pyautogui.moveTo(menuFiled,duration=0.2)\n",
    "time.sleep(0.2)\t\t\t\t\t\t\t\t\t# 缓冲时间\n",
    "pyautogui.click()\n",
    "pyautogui.moveTo(qqLogoFiled,duration=0.2)\n",
    "time.sleep(0.2)\t\t\t\t\t\t\t\t\t# 缓冲时间\n",
    "pyautogui.click()\n",
    "# 进行发送消息\n",
    "for name,text in friend.items():\n",
    "        print('即将给{name:s}发送消息:{text:s}'.format(name=name,text=text))\n",
    "pyautogui.moveTo(searchFiled,duration=0.5)                              # 先移到搜索框\n",
    "time.sleep(0.2)\t\t\t\t\t\t\t\t# 缓冲时间\n",
    "pyautogui.click()                                                       # 点击搜索框\n",
    "time.sleep(0.2)\t\t\t\t\t\t\t\t# 缓冲时间\n",
    "pyautogui.typewrite(name)\t\t\t\t\t        # 在搜索栏输入信息\n",
    "time.sleep(1)\t\t\t\t\t\t\t\t# 缓冲时间\n",
    "pyautogui.press('enter')\t\t\t\t\t      # 回车，打开聊天框\n",
    "time.sleep(0.5)\t\t\t\t\t\t\t\t# 缓冲时间\n",
    "pyautogui.typewrite(text)                                              # 打印消息\n",
    "pyautogui.press('enter')\t\t\t\t\t         # 回车，发送消息\n",
    "time.sleep(0.5)\t\t\t\t\t\t\t\t# 缓冲时间"
   ]
  },
  {
   "cell_type": "code",
   "execution_count": null,
   "metadata": {},
   "outputs": [],
   "source": []
  }
 ],
 "metadata": {
  "kernelspec": {
   "display_name": "base",
   "language": "python",
   "name": "python3"
  },
  "language_info": {
   "codemirror_mode": {
    "name": "ipython",
    "version": 3
   },
   "file_extension": ".py",
   "mimetype": "text/x-python",
   "name": "python",
   "nbconvert_exporter": "python",
   "pygments_lexer": "ipython3",
   "version": "3.11.3"
  }
 },
 "nbformat": 4,
 "nbformat_minor": 2
}
