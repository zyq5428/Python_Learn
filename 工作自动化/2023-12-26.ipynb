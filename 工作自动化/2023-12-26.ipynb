{
 "cells": [
  {
   "cell_type": "code",
   "execution_count": 1,
   "metadata": {},
   "outputs": [
    {
     "name": "stdout",
     "output_type": "stream",
     "text": [
      "\u001b[1;31;40m色彩控制\u001b[0m\n"
     ]
    }
   ],
   "source": [
    "print(\"\\033[1;31;40m色彩控制\\033[0m\")"
   ]
  },
  {
   "cell_type": "code",
   "execution_count": 8,
   "metadata": {},
   "outputs": [
    {
     "name": "stdout",
     "output_type": "stream",
     "text": [
      "\u001b[1;31m\n",
      "*********************登录信息********************* \u001b[0m\n",
      "\u001b[34m*HOST:\t 192.168.1.10\n",
      "*PORT:\t 80\n",
      "*User:\t jack\n",
      "*TIME:\t 2023-12-28 20:42:06\n",
      "\u001b[1;31m*\u001b[1;31m*\u001b[1;31m*\u001b[1;31m*\u001b[1;31m*\u001b[1;31m*\u001b[1;31m*\u001b[1;31m*\u001b[1;31m*\u001b[1;31m*\u001b[1;31m*\u001b[1;31m*\u001b[1;31m*\u001b[1;31m*\u001b[1;31m*\u001b[1;31m*\u001b[1;31m*\u001b[1;31m*\u001b[1;31m*\u001b[1;31m*\u001b[1;31m*\u001b[1;31m*\u001b[1;31m*\u001b[1;31m*\u001b[1;31m*\u001b[1;31m*\u001b[1;31m*\u001b[1;31m*\u001b[1;31m*\u001b[1;31m*\u001b[1;31m*\u001b[1;31m*\u001b[1;31m*\u001b[1;31m*\u001b[1;31m*\u001b[1;31m*\u001b[1;31m*\u001b[1;31m*\u001b[1;31m*\u001b[1;31m*\u001b[1;31m*\u001b[1;31m*\u001b[1;31m*\u001b[1;31m*\u001b[1;31m*\u001b[1;31m*\u001b[1;31m*\u001b[1;31m*\u001b[1;31m*\u001b[1;31m* \u001b[0m\n",
      "\u001b[32m欢迎登录！\u001b[0m\n"
     ]
    }
   ],
   "source": [
    "import time\n",
    "\n",
    "print('\\033[1;31m')\n",
    "print('登录信息'.center(46, \"*\"), \"\\033[0m\")\n",
    "print('\\033[34m*HOST:\\t', \"192.168.1.10\")\n",
    "print('*PORT:\\t', \"80\")\n",
    "print('*User:\\t', \"jack\")\n",
    "print('*TIME:\\t', time.strftime(\"%Y-%m-%d %H:%M:%S\", time.localtime()))\n",
    "print('\\033[1;31m*' * 50, '\\033[0m')\n",
    "print(\"\\033[32m欢迎登录！\\033[0m\")"
   ]
  },
  {
   "cell_type": "code",
   "execution_count": null,
   "metadata": {},
   "outputs": [],
   "source": [
    "for n in range(2,100):\n",
    "    for m in range\n"
   ]
  }
 ],
 "metadata": {
  "kernelspec": {
   "display_name": "base",
   "language": "python",
   "name": "python3"
  },
  "language_info": {
   "codemirror_mode": {
    "name": "ipython",
    "version": 3
   },
   "file_extension": ".py",
   "mimetype": "text/x-python",
   "name": "python",
   "nbconvert_exporter": "python",
   "pygments_lexer": "ipython3",
   "version": "3.11.3"
  }
 },
 "nbformat": 4,
 "nbformat_minor": 2
}
