{
 "cells": [
  {
   "cell_type": "code",
   "execution_count": 2,
   "metadata": {},
   "outputs": [
    {
     "name": "stdout",
     "output_type": "stream",
     "text": [
      "The current folder is F:\\Python_Learn\\automate\n",
      "FILE INSIDEF:\\Python_Learn\\automate:allminutes.pdf\n",
      "FILE INSIDEF:\\Python_Learn\\automate:combinedminutes.pdf\n",
      "FILE INSIDEF:\\Python_Learn\\automate:encrypted.pdf\n",
      "FILE INSIDEF:\\Python_Learn\\automate:encryptedminutes.pdf\n",
      "FILE INSIDEF:\\Python_Learn\\automate:meetingminutes.pdf\n",
      "FILE INSIDEF:\\Python_Learn\\automate:meetingminutes2.pdf\n",
      "FILE INSIDEF:\\Python_Learn\\automate:watermark.pdf\n",
      "\n"
     ]
    }
   ],
   "source": [
    "# 程序一：加密PDF\n",
    "# 1.利用os.walk()函数遍历文件夹中的pdf文件\n",
    "import os, PyPDF2, sys\n",
    "for folderName, subfolders, filenames in os.walk('F:\\\\Python_Learn\\\\automate'):\n",
    "    print('The current folder is ' + folderName)\n",
    "    for subfolders in subfolders:\n",
    "        print('SUBFOLDER OF' + folderName + ':' + subfolders)\n",
    "    for filename in filenames:\n",
    "        if filename.endswith('.pdf'):\n",
    "            print('FILE INSIDE' + folderName + ':' + filename)\n",
    "            pdfFile = open(folderName + '\\\\' + filename, 'rb')\n",
    "            pdfReader = PyPDF2.PdfReader(pdfFile)\n",
    "    print('')\n"
   ]
  },
  {
   "cell_type": "code",
   "execution_count": 1,
   "metadata": {},
   "outputs": [
    {
     "ename": "NameError",
     "evalue": "name 'folderName' is not defined",
     "output_type": "error",
     "traceback": [
      "\u001b[1;31m---------------------------------------------------------------------------\u001b[0m",
      "\u001b[1;31mNameError\u001b[0m                                 Traceback (most recent call last)",
      "Cell \u001b[1;32mIn[1], line 3\u001b[0m\n\u001b[0;32m      1\u001b[0m \u001b[38;5;66;03m# 2.对每一个找到的PDF文件加密\u001b[39;00m\n\u001b[1;32m----> 3\u001b[0m pdfFile \u001b[38;5;241m=\u001b[39m \u001b[38;5;28mopen\u001b[39m(folderName \u001b[38;5;241m+\u001b[39m \u001b[38;5;124m'\u001b[39m\u001b[38;5;130;01m\\\\\u001b[39;00m\u001b[38;5;124m'\u001b[39m \u001b[38;5;241m+\u001b[39m filename, \u001b[38;5;124m'\u001b[39m\u001b[38;5;124mrb\u001b[39m\u001b[38;5;124m'\u001b[39m)\n\u001b[0;32m      4\u001b[0m pdfReader \u001b[38;5;241m=\u001b[39m PyPDF2\u001b[38;5;241m.\u001b[39mPdfReader(pdfFile)\n",
      "\u001b[1;31mNameError\u001b[0m: name 'folderName' is not defined"
     ]
    }
   ],
   "source": [
    "# 2.对每一个找到的PDF文件加密\n",
    "\n",
    "pdfFile = open(folderName + '\\\\' + filename, 'rb')\n",
    "pdfReader = PyPDF2.PdfReader(pdfFile)\n",
    "pdfWriter = PyPDF2.PdfFileWriter()\n",
    "\n",
    "for pageNum in range(pdfReader.numPages):\n",
    "    pdfWriter.addPage(pdfReader.getPage(pageNum))\n",
    "\n",
    "print('encrypting...')\n",
    "pdfWriter.encrypt(sys.argv[1])\n"
   ]
  },
  {
   "cell_type": "code",
   "execution_count": 3,
   "metadata": {},
   "outputs": [],
   "source": [
    "# 3.保存加密的pdf，要求加上_encrypted后缀"
   ]
  },
  {
   "cell_type": "code",
   "execution_count": 4,
   "metadata": {},
   "outputs": [],
   "source": [
    "# 程序二：解密PDF\n",
    "# 1.找到所有加密的pdf文件"
   ]
  },
  {
   "cell_type": "code",
   "execution_count": 5,
   "metadata": {},
   "outputs": [],
   "source": [
    "# 2. 利用提供的口令，创建PDF 的解密拷贝"
   ]
  },
  {
   "cell_type": "code",
   "execution_count": null,
   "metadata": {},
   "outputs": [],
   "source": [
    "# 3.口令不对则打印一条消息并继续处理下一个文件"
   ]
  }
 ],
 "metadata": {
  "kernelspec": {
   "display_name": "base",
   "language": "python",
   "name": "python3"
  },
  "language_info": {
   "codemirror_mode": {
    "name": "ipython",
    "version": 3
   },
   "file_extension": ".py",
   "mimetype": "text/x-python",
   "name": "python",
   "nbconvert_exporter": "python",
   "pygments_lexer": "ipython3",
   "version": "3.11.3"
  }
 },
 "nbformat": 4,
 "nbformat_minor": 2
}
