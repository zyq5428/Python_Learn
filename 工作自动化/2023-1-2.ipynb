{
 "cells": [
  {
   "cell_type": "code",
   "execution_count": 23,
   "metadata": {},
   "outputs": [],
   "source": [
    "stringOfJsonData = '{\"name\": \"Zophie\", \"isCat\": true, \"miceCaught\": 0,\"felineIQ\": null}'\n"
   ]
  },
  {
   "cell_type": "code",
   "execution_count": 24,
   "metadata": {},
   "outputs": [
    {
     "data": {
      "text/plain": [
       "{'name': 'Zophie', 'isCat': True, 'miceCaught': 0, 'felineIQ': None}"
      ]
     },
     "execution_count": 24,
     "metadata": {},
     "output_type": "execute_result"
    }
   ],
   "source": [
    "import json\n",
    "jsonDataAsPythonValue = json.loads(stringOfJsonData)\n",
    "jsonDataAsPythonValue"
   ]
  },
  {
   "cell_type": "code",
   "execution_count": 25,
   "metadata": {},
   "outputs": [
    {
     "data": {
      "text/plain": [
       "'\"{\\\\\"name\\\\\": \\\\\"Zophie\\\\\", \\\\\"isCat\\\\\": true, \\\\\"miceCaught\\\\\": 0,\\\\\"felineIQ\\\\\": null}\"'"
      ]
     },
     "execution_count": 25,
     "metadata": {},
     "output_type": "execute_result"
    }
   ],
   "source": [
    "import json\n",
    "jsonDataAsPythonValue = json.dumps(stringOfJsonData)\n",
    "jsonDataAsPythonValue"
   ]
  },
  {
   "cell_type": "code",
   "execution_count": 26,
   "metadata": {},
   "outputs": [],
   "source": [
    "import json, requests, sys"
   ]
  },
  {
   "cell_type": "code",
   "execution_count": 27,
   "metadata": {},
   "outputs": [],
   "source": [
    "if len(sys.argv) < 2:\n",
    "    print('Usage: quickWeather.py location')\n",
    "    sys.exit()\n",
    "location = ' '.join(sys.argv[1:])"
   ]
  },
  {
   "cell_type": "code",
   "execution_count": 28,
   "metadata": {},
   "outputs": [
    {
     "ename": "HTTPError",
     "evalue": "401 Client Error: Unauthorized for url: http://api.openweathermap.org/data/2.5/forecast/daily?q=--f=c:%5CUsers%5C59427%5CAppData%5CRoaming%5Cjupyter%5Cruntime%5Ckernel-v2-11180m1aPVCj3Set8.json&cnt=3",
     "output_type": "error",
     "traceback": [
      "\u001b[1;31m---------------------------------------------------------------------------\u001b[0m",
      "\u001b[1;31mHTTPError\u001b[0m                                 Traceback (most recent call last)",
      "Cell \u001b[1;32mIn[28], line 3\u001b[0m\n\u001b[0;32m      1\u001b[0m url \u001b[38;5;241m=\u001b[39m\u001b[38;5;124m'\u001b[39m\u001b[38;5;124mhttp://api.openweathermap.org/data/2.5/forecast/daily?q=\u001b[39m\u001b[38;5;132;01m%s\u001b[39;00m\u001b[38;5;124m&cnt=3\u001b[39m\u001b[38;5;124m'\u001b[39m \u001b[38;5;241m%\u001b[39m (location)\n\u001b[0;32m      2\u001b[0m response \u001b[38;5;241m=\u001b[39m requests\u001b[38;5;241m.\u001b[39mget(url)\n\u001b[1;32m----> 3\u001b[0m response\u001b[38;5;241m.\u001b[39mraise_for_status()\n",
      "File \u001b[1;32md:\\anaconda3\\Lib\\site-packages\\requests\\models.py:1021\u001b[0m, in \u001b[0;36mResponse.raise_for_status\u001b[1;34m(self)\u001b[0m\n\u001b[0;32m   1016\u001b[0m     http_error_msg \u001b[38;5;241m=\u001b[39m (\n\u001b[0;32m   1017\u001b[0m         \u001b[38;5;124mf\u001b[39m\u001b[38;5;124m\"\u001b[39m\u001b[38;5;132;01m{\u001b[39;00m\u001b[38;5;28mself\u001b[39m\u001b[38;5;241m.\u001b[39mstatus_code\u001b[38;5;132;01m}\u001b[39;00m\u001b[38;5;124m Server Error: \u001b[39m\u001b[38;5;132;01m{\u001b[39;00mreason\u001b[38;5;132;01m}\u001b[39;00m\u001b[38;5;124m for url: \u001b[39m\u001b[38;5;132;01m{\u001b[39;00m\u001b[38;5;28mself\u001b[39m\u001b[38;5;241m.\u001b[39murl\u001b[38;5;132;01m}\u001b[39;00m\u001b[38;5;124m\"\u001b[39m\n\u001b[0;32m   1018\u001b[0m     )\n\u001b[0;32m   1020\u001b[0m \u001b[38;5;28;01mif\u001b[39;00m http_error_msg:\n\u001b[1;32m-> 1021\u001b[0m     \u001b[38;5;28;01mraise\u001b[39;00m HTTPError(http_error_msg, response\u001b[38;5;241m=\u001b[39m\u001b[38;5;28mself\u001b[39m)\n",
      "\u001b[1;31mHTTPError\u001b[0m: 401 Client Error: Unauthorized for url: http://api.openweathermap.org/data/2.5/forecast/daily?q=--f=c:%5CUsers%5C59427%5CAppData%5CRoaming%5Cjupyter%5Cruntime%5Ckernel-v2-11180m1aPVCj3Set8.json&cnt=3"
     ]
    }
   ],
   "source": [
    "url ='http://api.openweathermap.org/data/2.5/forecast/daily?q=%s&cnt=3' % (location)\n",
    "response = requests.get(url)\n",
    "response.raise_for_status()"
   ]
  },
  {
   "cell_type": "code",
   "execution_count": null,
   "metadata": {},
   "outputs": [],
   "source": [
    "from spire.xls import *\n",
    "from spire.xls.common import *\n",
    "\n",
    "# 创建Workbook对象\n",
    "workbook = Workbook()\n",
    "\n",
    "# 加载Excel文件\n",
    "workbook.LoadFromFile(\"测试.xlsx\")\n",
    "\n",
    "# 获取第一张工作表\n",
    "sheet = workbook.Worksheets[0]\n",
    "\n",
    "# 将Excel工作表转为CSV\n",
    "sheet.SaveToFile(\"Excel转CSV.csv\", \",\", Encoding.get_UTF8())\n",
    "workbook.Dispose()"
   ]
  },
  {
   "cell_type": "code",
   "execution_count": null,
   "metadata": {},
   "outputs": [],
   "source": [
    "import pyautogui\n",
    "pyautogui.PAUSE = 1\n",
    "pyautogui.FAILSAFE = True"
   ]
  },
  {
   "cell_type": "code",
   "execution_count": null,
   "metadata": {},
   "outputs": [
    {
     "data": {
      "text/plain": [
       "Size(width=3440, height=1440)"
      ]
     },
     "execution_count": 14,
     "metadata": {},
     "output_type": "execute_result"
    }
   ],
   "source": [
    "pyautogui.size()"
   ]
  },
  {
   "cell_type": "code",
   "execution_count": null,
   "metadata": {},
   "outputs": [],
   "source": [
    "width, height = pyautogui.size()"
   ]
  },
  {
   "cell_type": "code",
   "execution_count": 21,
   "metadata": {},
   "outputs": [],
   "source": [
    "for i in range(10):\n",
    "    pyautogui.moveTo(100, 100, duration=0.25)\n",
    "    pyautogui.moveTo(200, 100, duration=0.25)\n",
    "    pyautogui.moveTo(200, 200, duration=0.25)\n",
    "    pyautogui.moveTo(100, 200, duration=0.25)\n",
    "    "
   ]
  },
  {
   "cell_type": "code",
   "execution_count": 22,
   "metadata": {},
   "outputs": [],
   "source": [
    "pyautogui.FAILSAFE = False"
   ]
  },
  {
   "cell_type": "code",
   "execution_count": 29,
   "metadata": {},
   "outputs": [],
   "source": [
    "for i in range(10):\n",
    "    pyautogui.moveRel(100, 0, duration=0.25)\n",
    "    pyautogui.moveRel(0, 100, duration=0.25)\n",
    "    pyautogui.moveRel(-100, 0, duration=0.25)\n",
    "    pyautogui.moveRel(0, -100, duration=0.25)"
   ]
  },
  {
   "cell_type": "code",
   "execution_count": 30,
   "metadata": {},
   "outputs": [],
   "source": [
    "pyautogui.FAILSAFE = False"
   ]
  },
  {
   "cell_type": "code",
   "execution_count": 31,
   "metadata": {},
   "outputs": [
    {
     "data": {
      "text/plain": [
       "Point(x=1009, y=1045)"
      ]
     },
     "execution_count": 31,
     "metadata": {},
     "output_type": "execute_result"
    }
   ],
   "source": [
    "pyautogui.position()"
   ]
  },
  {
   "cell_type": "code",
   "execution_count": 32,
   "metadata": {},
   "outputs": [
    {
     "data": {
      "text/plain": [
       "Point(x=772, y=1099)"
      ]
     },
     "execution_count": 32,
     "metadata": {},
     "output_type": "execute_result"
    }
   ],
   "source": [
    "pyautogui.position()"
   ]
  },
  {
   "cell_type": "code",
   "execution_count": 33,
   "metadata": {},
   "outputs": [
    {
     "data": {
      "text/plain": [
       "Point(x=856, y=1179)"
      ]
     },
     "execution_count": 33,
     "metadata": {},
     "output_type": "execute_result"
    }
   ],
   "source": [
    "pyautogui.position()"
   ]
  },
  {
   "cell_type": "code",
   "execution_count": 36,
   "metadata": {},
   "outputs": [
    {
     "ename": "IndentationError",
     "evalue": "expected an indented block after 'while' statement on line 4 (2026901898.py, line 6)",
     "output_type": "error",
     "traceback": [
      "\u001b[1;36m  Cell \u001b[1;32mIn[36], line 6\u001b[1;36m\u001b[0m\n\u001b[1;33m    except KeyboardInterrupt:\u001b[0m\n\u001b[1;37m                             ^\u001b[0m\n\u001b[1;31mIndentationError\u001b[0m\u001b[1;31m:\u001b[0m expected an indented block after 'while' statement on line 4\n"
     ]
    }
   ],
   "source": [
    "import pyautogui\n",
    "print('Press Ctrl-C to quit.')\n",
    "try:\n",
    "    while True:\n",
    "        # TODO: Get and print the mouse coordinates.\n",
    "except KeyboardInterrupt:\n",
    "    print('\\nDone.')\n",
    "\n",
    "    x, y = pyautogui.position()\n",
    "    positionStr = 'X: ' + str(x).rjust(4) + ' Y: ' + str(y).rjust(4)\n",
    "    print(positionStr, end='')\n",
    "    print('\\b' * len(positionStr), end='', flush=True)"
   ]
  },
  {
   "cell_type": "code",
   "execution_count": 41,
   "metadata": {},
   "outputs": [],
   "source": [
    "import pyautogui\n",
    "pyautogui.click(10, 5)"
   ]
  },
  {
   "cell_type": "code",
   "execution_count": 42,
   "metadata": {},
   "outputs": [],
   "source": [
    "import pyautogui, time\n",
    "time.sleep(5)\n",
    "pyautogui.click() # Click to put drawing program into focus\n",
    "distance = 200\n",
    "while distance > 0:\n",
    "    pyautogui.dragRel(distance, 0, duration=0.5)   # move right\n",
    "    distance = distance - 5\n",
    "    pyautogui.dragRel(0, distance, duration=0.5)   # move down\n",
    "    pyautogui.dragRel(-distance, 0, duration=0.5)  # move left\n",
    "    distance = distance - 5\n",
    "    pyautogui.dragRel(0, -distance, duration=0.5)  # move up"
   ]
  },
  {
   "cell_type": "code",
   "execution_count": 43,
   "metadata": {},
   "outputs": [],
   "source": [
    "pyautogui.scroll(200)"
   ]
  },
  {
   "cell_type": "code",
   "execution_count": 44,
   "metadata": {},
   "outputs": [],
   "source": [
    "import pyperclip\n",
    "numbers = ''\n",
    "for i in range(200):\n",
    "    numbers = numbers + str(i) + '\\n'\n",
    "pyperclip.copy(numbers)"
   ]
  },
  {
   "cell_type": "code",
   "execution_count": 46,
   "metadata": {},
   "outputs": [],
   "source": [
    "import time, pyautogui\n",
    "time.sleep(5); pyautogui.scroll(100)"
   ]
  },
  {
   "cell_type": "code",
   "execution_count": 47,
   "metadata": {},
   "outputs": [],
   "source": [
    "import pyautogui\n",
    "im = pyautogui.screenshot()"
   ]
  },
  {
   "cell_type": "code",
   "execution_count": 49,
   "metadata": {},
   "outputs": [
    {
     "data": {
      "text/plain": [
       "(90, 88, 83)"
      ]
     },
     "execution_count": 49,
     "metadata": {},
     "output_type": "execute_result"
    }
   ],
   "source": [
    "im.getpixel((0, 0))"
   ]
  },
  {
   "cell_type": "code",
   "execution_count": 50,
   "metadata": {},
   "outputs": [
    {
     "data": {
      "text/plain": [
       "(222, 165, 135)"
      ]
     },
     "execution_count": 50,
     "metadata": {},
     "output_type": "execute_result"
    }
   ],
   "source": [
    "im.getpixel((50, 200))"
   ]
  },
  {
   "cell_type": "code",
   "execution_count": 51,
   "metadata": {},
   "outputs": [
    {
     "data": {
      "text/plain": [
       "(222, 165, 135)"
      ]
     },
     "execution_count": 51,
     "metadata": {},
     "output_type": "execute_result"
    }
   ],
   "source": [
    "im = pyautogui.screenshot()\n",
    "im.getpixel((50, 200))"
   ]
  },
  {
   "cell_type": "code",
   "execution_count": 52,
   "metadata": {},
   "outputs": [
    {
     "data": {
      "text/plain": [
       "False"
      ]
     },
     "execution_count": 52,
     "metadata": {},
     "output_type": "execute_result"
    }
   ],
   "source": [
    "pyautogui.pixelMatchesColor(50, 200, (130, 135, 144))"
   ]
  },
  {
   "cell_type": "code",
   "execution_count": 53,
   "metadata": {},
   "outputs": [
    {
     "data": {
      "text/plain": [
       "False"
      ]
     },
     "execution_count": 53,
     "metadata": {},
     "output_type": "execute_result"
    }
   ],
   "source": [
    "pyautogui.pixelMatchesColor(50, 200, (255, 135, 144))"
   ]
  },
  {
   "cell_type": "code",
   "execution_count": null,
   "metadata": {},
   "outputs": [],
   "source": []
  }
 ],
 "metadata": {
  "kernelspec": {
   "display_name": "base",
   "language": "python",
   "name": "python3"
  },
  "language_info": {
   "codemirror_mode": {
    "name": "ipython",
    "version": 3
   },
   "file_extension": ".py",
   "mimetype": "text/x-python",
   "name": "python",
   "nbconvert_exporter": "python",
   "pygments_lexer": "ipython3",
   "version": "3.11.3"
  }
 },
 "nbformat": 4,
 "nbformat_minor": 2
}
