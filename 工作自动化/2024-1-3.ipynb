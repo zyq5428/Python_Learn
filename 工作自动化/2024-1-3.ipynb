{
 "cells": [
  {
   "cell_type": "code",
   "execution_count": 1,
   "metadata": {},
   "outputs": [],
   "source": [
    "import pyautogui, time"
   ]
  },
  {
   "cell_type": "code",
   "execution_count": 2,
   "metadata": {},
   "outputs": [],
   "source": [
    "# Set these to the correct coordinates for your computer.\n",
    "nameField = (648, 319)\n",
    "submitButton = (651, 817)\n",
    "submitButtonColor = (75, 141, 249)\n",
    "submitAnotherLink = (760, 224)"
   ]
  },
  {
   "cell_type": "code",
   "execution_count": 3,
   "metadata": {},
   "outputs": [],
   "source": [
    "formData = [{'name': 'Alice', 'fear': 'eavesdroppers', 'source': 'wand','robocop': 4, 'comments': 'Tell Bob I said hi.'},\n",
    "{'name': 'Bob', 'fear': 'bees', 'source': 'amulet', 'robocop': 4,'comments': 'n/a'},{'name': 'Carol', 'fear': 'puppets', 'source': 'crystal ball',\n",
    "'robocop': 1, 'comments': 'Please take the puppets out of thebreak room.'},{'name': 'Alex Murphy', 'fear': 'ED-209', 'source': 'money',\n",
    "'robocop': 5, 'comments': 'Protect the innocent. Serve the publictrust. Uphold the law.'},]"
   ]
  },
  {
   "cell_type": "code",
   "execution_count": null,
   "metadata": {},
   "outputs": [],
   "source": [
    "pyautogui.PAUSE = 0.5"
   ]
  },
  {
   "cell_type": "code",
   "execution_count": 2,
   "metadata": {},
   "outputs": [
    {
     "ename": "NameError",
     "evalue": "name 'formData' is not defined",
     "output_type": "error",
     "traceback": [
      "\u001b[1;31m---------------------------------------------------------------------------\u001b[0m",
      "\u001b[1;31mNameError\u001b[0m                                 Traceback (most recent call last)",
      "Cell \u001b[1;32mIn[2], line 1\u001b[0m\n\u001b[1;32m----> 1\u001b[0m \u001b[38;5;28;01mfor\u001b[39;00m person \u001b[38;5;129;01min\u001b[39;00m formData:\n\u001b[0;32m      2\u001b[0m     \u001b[38;5;66;03m# Give the user a chance to kill the script.\u001b[39;00m\n\u001b[0;32m      3\u001b[0m     \u001b[38;5;28mprint\u001b[39m(\u001b[38;5;124m'\u001b[39m\u001b[38;5;124m>>> 5 SECOND PAUSE TO LET USER PRESS CTRL-C <<<\u001b[39m\u001b[38;5;124m'\u001b[39m)\n\u001b[0;32m      4\u001b[0m     time\u001b[38;5;241m.\u001b[39msleep(\u001b[38;5;241m5\u001b[39m)\n",
      "\u001b[1;31mNameError\u001b[0m: name 'formData' is not defined"
     ]
    }
   ],
   "source": [
    "for person in formData:\n",
    "    # Give the user a chance to kill the script.\n",
    "    print('>>> 5 SECOND PAUSE TO LET USER PRESS CTRL-C <<<')\n",
    "    time.sleep(5)\n",
    "    # Wait until the form page has loaded.\n",
    "    while not pyautogui.pixelMatchesColor(submitButton[0], submitButton[1],submitButtonColor):\n",
    "        time.sleep(0.5)\n"
   ]
  },
  {
   "cell_type": "code",
   "execution_count": 3,
   "metadata": {},
   "outputs": [
    {
     "ename": "NameError",
     "evalue": "name 'person' is not defined",
     "output_type": "error",
     "traceback": [
      "\u001b[1;31m---------------------------------------------------------------------------\u001b[0m",
      "\u001b[1;31mNameError\u001b[0m                                 Traceback (most recent call last)",
      "Cell \u001b[1;32mIn[3], line 1\u001b[0m\n\u001b[1;32m----> 1\u001b[0m \u001b[38;5;28mprint\u001b[39m(\u001b[38;5;124m'\u001b[39m\u001b[38;5;124mEntering \u001b[39m\u001b[38;5;132;01m%s\u001b[39;00m\u001b[38;5;124m info...\u001b[39m\u001b[38;5;124m'\u001b[39m \u001b[38;5;241m%\u001b[39m (person[\u001b[38;5;124m'\u001b[39m\u001b[38;5;124mname\u001b[39m\u001b[38;5;124m'\u001b[39m]))\n\u001b[0;32m      2\u001b[0m pyautogui\u001b[38;5;241m.\u001b[39mclick(nameField[\u001b[38;5;241m0\u001b[39m], nameField[\u001b[38;5;241m1\u001b[39m])\n\u001b[0;32m      3\u001b[0m \u001b[38;5;66;03m# Fill out the Name field.\u001b[39;00m\n",
      "\u001b[1;31mNameError\u001b[0m: name 'person' is not defined"
     ]
    }
   ],
   "source": [
    "print('Entering %s info...' % (person['name']))\n",
    "pyautogui.click(nameField[0], nameField[1])\n",
    "# Fill out the Name field.\n",
    "pyautogui.typewrite(person['name'] + '\\t')\n",
    "# Fill out the Greatest Fear(s) field.\n",
    "pyautogui.typewrite(person['fear'] + '\\t')"
   ]
  },
  {
   "cell_type": "code",
   "execution_count": 4,
   "metadata": {},
   "outputs": [
    {
     "ename": "NameError",
     "evalue": "name 'person' is not defined",
     "output_type": "error",
     "traceback": [
      "\u001b[1;31m---------------------------------------------------------------------------\u001b[0m",
      "\u001b[1;31mNameError\u001b[0m                                 Traceback (most recent call last)",
      "Cell \u001b[1;32mIn[4], line 2\u001b[0m\n\u001b[0;32m      1\u001b[0m \u001b[38;5;66;03m# Fill out the Source of Wizard Powers field.\u001b[39;00m\n\u001b[1;32m----> 2\u001b[0m \u001b[38;5;28;01mif\u001b[39;00m person[\u001b[38;5;124m'\u001b[39m\u001b[38;5;124msource\u001b[39m\u001b[38;5;124m'\u001b[39m] \u001b[38;5;241m==\u001b[39m \u001b[38;5;124m'\u001b[39m\u001b[38;5;124mwand\u001b[39m\u001b[38;5;124m'\u001b[39m:\n\u001b[0;32m      3\u001b[0m     pyautogui\u001b[38;5;241m.\u001b[39mtypewrite([\u001b[38;5;124m'\u001b[39m\u001b[38;5;124mdown\u001b[39m\u001b[38;5;124m'\u001b[39m, \u001b[38;5;124m'\u001b[39m\u001b[38;5;130;01m\\t\u001b[39;00m\u001b[38;5;124m'\u001b[39m])\n\u001b[0;32m      4\u001b[0m \u001b[38;5;28;01melif\u001b[39;00m person[\u001b[38;5;124m'\u001b[39m\u001b[38;5;124msource\u001b[39m\u001b[38;5;124m'\u001b[39m] \u001b[38;5;241m==\u001b[39m \u001b[38;5;124m'\u001b[39m\u001b[38;5;124mamulet\u001b[39m\u001b[38;5;124m'\u001b[39m:\n",
      "\u001b[1;31mNameError\u001b[0m: name 'person' is not defined"
     ]
    }
   ],
   "source": [
    "# Fill out the Source of Wizard Powers field.\n",
    "if person['source'] == 'wand':\n",
    "    pyautogui.typewrite(['down', '\\t'])\n",
    "elif person['source'] == 'amulet':\n",
    "    pyautogui.typewrite(['down', 'down', '\\t'])\n",
    "elif person['source'] == 'crystal ball':\n",
    "    pyautogui.typewrite(['down', 'down', 'down', '\\t'])\n",
    "elif person['source'] == 'money':\n",
    "    pyautogui.typewrite(['down', 'down', 'down', 'down', '\\t'])"
   ]
  },
  {
   "cell_type": "code",
   "execution_count": 5,
   "metadata": {},
   "outputs": [
    {
     "ename": "NameError",
     "evalue": "name 'person' is not defined",
     "output_type": "error",
     "traceback": [
      "\u001b[1;31m---------------------------------------------------------------------------\u001b[0m",
      "\u001b[1;31mNameError\u001b[0m                                 Traceback (most recent call last)",
      "Cell \u001b[1;32mIn[5], line 2\u001b[0m\n\u001b[0;32m      1\u001b[0m \u001b[38;5;66;03m# Fill out the RoboCop field.\u001b[39;00m\n\u001b[1;32m----> 2\u001b[0m \u001b[38;5;28;01mif\u001b[39;00m person[\u001b[38;5;124m'\u001b[39m\u001b[38;5;124mrobocop\u001b[39m\u001b[38;5;124m'\u001b[39m] \u001b[38;5;241m==\u001b[39m \u001b[38;5;241m1\u001b[39m:\n\u001b[0;32m      3\u001b[0m     pyautogui\u001b[38;5;241m.\u001b[39mtypewrite([\u001b[38;5;124m'\u001b[39m\u001b[38;5;124m \u001b[39m\u001b[38;5;124m'\u001b[39m, \u001b[38;5;124m'\u001b[39m\u001b[38;5;130;01m\\t\u001b[39;00m\u001b[38;5;124m'\u001b[39m])\n\u001b[0;32m      4\u001b[0m \u001b[38;5;28;01melif\u001b[39;00m person[\u001b[38;5;124m'\u001b[39m\u001b[38;5;124mrobocop\u001b[39m\u001b[38;5;124m'\u001b[39m] \u001b[38;5;241m==\u001b[39m \u001b[38;5;241m2\u001b[39m:\n",
      "\u001b[1;31mNameError\u001b[0m: name 'person' is not defined"
     ]
    }
   ],
   "source": [
    "# Fill out the RoboCop field.\n",
    "if person['robocop'] == 1:\n",
    "    pyautogui.typewrite([' ', '\\t'])\n",
    "elif person['robocop'] == 2:\n",
    "    pyautogui.typewrite(['right', '\\t'])\n",
    "elif person['robocop'] == 3:\n",
    "    pyautogui.typewrite(['right', 'right', '\\t'])\n",
    "elif person['robocop'] == 4:\n",
    "    pyautogui.typewrite(['right', 'right', 'right', '\\t'])\n",
    "elif person['robocop'] == 5:\n",
    "    pyautogui.typewrite(['right', 'right', 'right', 'right', '\\t'])"
   ]
  },
  {
   "cell_type": "code",
   "execution_count": 6,
   "metadata": {},
   "outputs": [
    {
     "ename": "NameError",
     "evalue": "name 'person' is not defined",
     "output_type": "error",
     "traceback": [
      "\u001b[1;31m---------------------------------------------------------------------------\u001b[0m",
      "\u001b[1;31mNameError\u001b[0m                                 Traceback (most recent call last)",
      "Cell \u001b[1;32mIn[6], line 2\u001b[0m\n\u001b[0;32m      1\u001b[0m \u001b[38;5;66;03m# Fill out the Additional Comments field.\u001b[39;00m\n\u001b[1;32m----> 2\u001b[0m pyautogui\u001b[38;5;241m.\u001b[39mtypewrite(person[\u001b[38;5;124m'\u001b[39m\u001b[38;5;124mcomments\u001b[39m\u001b[38;5;124m'\u001b[39m] \u001b[38;5;241m+\u001b[39m \u001b[38;5;124m'\u001b[39m\u001b[38;5;130;01m\\t\u001b[39;00m\u001b[38;5;124m'\u001b[39m)\n\u001b[0;32m      4\u001b[0m \u001b[38;5;66;03m# Click Submit.\u001b[39;00m\n\u001b[0;32m      5\u001b[0m pyautogui\u001b[38;5;241m.\u001b[39mpress(\u001b[38;5;124m'\u001b[39m\u001b[38;5;124menter\u001b[39m\u001b[38;5;124m'\u001b[39m)\n",
      "\u001b[1;31mNameError\u001b[0m: name 'person' is not defined"
     ]
    }
   ],
   "source": [
    "# Fill out the Additional Comments field.\n",
    "pyautogui.typewrite(person['comments'] + '\\t')\n",
    "\n",
    "# Click Submit.\n",
    "pyautogui.press('enter')\n",
    "\n",
    "# Wait until form page has loaded.\n",
    "print('Clicked Submit.')\n",
    "time.sleep(5)\n",
    "\n",
    "# Click the Submit another response link.\n",
    "pyautogui.click(submitAnotherLink[0], submitAnotherLink[1])"
   ]
  },
  {
   "cell_type": "code",
   "execution_count": 7,
   "metadata": {},
   "outputs": [],
   "source": [
    "import time\n",
    "import random\n",
    "import pyautogui\n",
    "\n",
    "while 1:\n",
    "    # 5秒钟移动一次鼠标(移动鼠标时间可以根据自己需要设定)\n",
    "    time.sleep(10)\n",
    "    pyautogui.moveTo(x=1500,y=random.randint(100,900)) #random() 方法返回随机生成的一个实数，它在[0,1)范围内\n",
    "    pyautogui.FAILSAFE = False"
   ]
  },
  {
   "cell_type": "code",
   "execution_count": null,
   "metadata": {},
   "outputs": [],
   "source": []
  }
 ],
 "metadata": {
  "kernelspec": {
   "display_name": "base",
   "language": "python",
   "name": "python3"
  },
  "language_info": {
   "codemirror_mode": {
    "name": "ipython",
    "version": 3
   },
   "file_extension": ".py",
   "mimetype": "text/x-python",
   "name": "python",
   "nbconvert_exporter": "python",
   "pygments_lexer": "ipython3",
   "version": "3.11.3"
  }
 },
 "nbformat": 4,
 "nbformat_minor": 2
}
